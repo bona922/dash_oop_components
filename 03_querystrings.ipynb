{
 "cells": [
  {
   "cell_type": "code",
   "execution_count": null,
   "metadata": {},
   "outputs": [],
   "source": [
    "#hide\n",
    "from dash_oop_components.core import *"
   ]
  },
  {
   "cell_type": "markdown",
   "metadata": {},
   "source": [
    "# Tracking state of your app in url querystrings\n",
    "\n",
    "> instructions on how to track the state of your dashboard in the url querystring\n",
    "\n"
   ]
  },
  {
   "cell_type": "markdown",
   "metadata": {},
   "source": [
    "## Make shareable dashboards by tracking state in url querystrings"
   ]
  },
  {
   "cell_type": "markdown",
   "metadata": {},
   "source": [
    "For a lot of analytical web apps it can be super useful to be able to share the state of a dashboard with others through a url. Imagine you have done a particular analysis on a particular tab, setting certain dropdowns and toggles and you wish to share these with a co-worker.\n",
    "\n",
    "You could tell them to go to the dashboard with instructions to set the exact same dropdowns and toggles. But it would be much easier if you can simply send a url that rebuild the dashboard exactly as you saw it!\n",
    "\n",
    "This can be done by storing the state of the dashboard in the querystring:\n",
    "\n",
    "![QuerystringDemo](dash_oop_demo.gif)\n",
    "\n"
   ]
  },
  {
   "cell_type": "markdown",
   "metadata": {},
   "source": [
    "## Tracking state with `dash_oop_components`"
   ]
  },
  {
   "cell_type": "markdown",
   "metadata": {},
   "source": [
    "Thanks to the modular nature and tree structure of `DashComponents` it is relatively straightforward to keep track of \n",
    "which elements should be tracked in the url querystring, and rebuild the page in accordance with the state of the querystring.\n"
   ]
  },
  {
   "cell_type": "markdown",
   "metadata": {},
   "source": [
    "An example dashboard that demonstrates how to build a dashboard with querystrings included can be found at [github.com/oegedijk/dash_oop_demo](https://github.com/oegedijk/dash_oop_demo) and has been deployed to [https://dash-oop-demo.herokuapp.com/](https://dash-oop-demo.herokuapp.com/)"
   ]
  },
  {
   "cell_type": "markdown",
   "metadata": {},
   "source": [
    "## Basic summary instructions:\n",
    "In order to add querystring support to your app all you need is to:\n",
    "1. Pass `querystrings=True` parameters to `DashApp` \n",
    "2. Change the `def layout(self)` method to `def layout(self, params=None)`\n",
    "3. Inside your `DashComponents` wrap the elements that you want to track in `self.querystring(params)(...)`:\n",
    "    - i.e. change \n",
    "        ```python\n",
    "        dcc.Input(id='input-'+self.name)\n",
    "        ``` \n",
    "        to \n",
    "        ```python\n",
    "        self.querystring(params)(dcc.Input)(id='input-'+self.name')\n",
    "        ```\n",
    "4. pass down `params` to all subcomponent layouts: \n",
    "    ```python\n",
    "    def layout(self, params=None):\n",
    "        return html.Div([self.subcomponent.layout(params)])\n",
    "    ```\n",
    "    \n",
    "**note:** it is important to assign a proper `.name` to components with querystring elements, as otherwise the elements will get a different random uuid `id` each time you reboot the dashboard, breaking old querystrings."
   ]
  },
  {
   "cell_type": "markdown",
   "metadata": {},
   "source": [
    "### Step 1: Turning on querystrings in Dashapp"
   ]
  },
  {
   "cell_type": "markdown",
   "metadata": {},
   "source": [
    "In order to turn on the tracking of querystrings you need to start `DashApp` \n",
    "with the `querystrings=True` parameter, e.g.:\n",
    "    \n",
    "    \n",
    "```python\n",
    "dashboard = CovidDashboard(plot_factory)\n",
    "app = DashApp(dashboard, querystrings=True, bootstrap=dbc.themes.FLATLY)\n",
    "```"
   ]
  },
  {
   "cell_type": "markdown",
   "metadata": {},
   "source": [
    "### Step 2: Building `DashComponent` with  `layout(params)` and `self.querystring()` "
   ]
  },
  {
   "cell_type": "markdown",
   "metadata": {},
   "source": [
    "The example [dashboard](https://github.com/oegedijk/dash_oop_demo) consists of four tabs that each contain the layout of a `CovidComposite` subcomponent:\n",
    "- `self.europe`: a tab with only european countries\n",
    "- `self.asia`: a tab with only Asian countries\n",
    "- `self.cases_only`: a tab with only cases data (for the whole world)\n",
    "- `self.deaths_only`: a tab with only deaths data (for the whole world)\n",
    "\n",
    "\n",
    "In order to keep track of an attribute of a layout element we simply wrap it inside a `self.querystring()(element_func)(params)` wrapper:\n",
    "```python\n",
    "    self.querystring(params)(dcc.Tabs)(id='tabs', ...)`\n",
    "```\n",
    "\n",
    "This will make sure that the `value` attribute of the `dcc.Tabs` element with `id='tabs'` is tracked in the querystring, so that users will start on the same tab when you send them a link.\n",
    "\n",
    "Other querystring parameters get tracked inside the subcomponent definition of `DashComposite`. In order to make sure that these subcomponents also receive the `params` we need to pass those params down to the layout of our subcomponents as well:\n",
    "```python\n",
    "    dcc.Tab(..., children=self.europe.layout(params))\n",
    "    dcc.Tab(..., children=self.asia.layout(params))\n",
    "    dcc.Tab(..., children=self.cases_only.layout(params))\n",
    "    dcc.Tab(..., children=self.deaths_only.layout(params))\n",
    "```\n",
    "\n",
    "Note that we set the `name` of the tabs to `\"eur\"`, `\"asia\"`, `\"cases\"` and `\"deaths\"`"
   ]
  },
  {
   "cell_type": "markdown",
   "metadata": {},
   "source": [
    "**Full definition of `CovidDashboard`:**\n",
    "\n",
    "```python\n",
    "class CovidDashboard(DashComponent):\n",
    "    def __init__(self, plot_factory, \n",
    "                 europe_countries = ['Italy',  'Spain', 'Germany', 'France', \n",
    "                                     'United_Kingdom', 'Switzerland', 'Netherlands',  \n",
    "                                     'Belgium', 'Austria', 'Portugal', 'Norway'],\n",
    "                asia_countries = ['China', 'Vietnam', 'Malaysia', 'Philippines', \n",
    "                                  'Taiwan', 'Myanmar', 'Thailand', 'South_Korea', 'Japan']):\n",
    "        super().__init__(title=\"Covid Dashboard\")\n",
    "        \n",
    "        self.europe = CovidComposite(self.plot_factory, \"Europe\", \n",
    "                                     include_countries=self.europe_countries, name=\"eur\")\n",
    "        self.asia = CovidComposite(self.plot_factory, \"Asia\", \n",
    "                                    include_countries=self.asia_countries, name=\"asia\")\n",
    "        self.cases_only = CovidComposite(self.plot_factory, \"Cases Only\", \n",
    "                                         metric='cases', hide_metric_dropdown=True,\n",
    "                                         countries=['China', 'Italy', 'Brazil'], name=\"cases\")\n",
    "        self.deaths_only = CovidComposite(self.plot_factory, \"Deaths Only\", \n",
    "                                          metric='deaths', hide_metric_dropdown=True,\n",
    "                                          countries=['China', 'Italy', 'Brazil'], name=\"deaths\")\n",
    "        \n",
    "    def layout(self, params=None):\n",
    "        return dbc.Container([\n",
    "            dbc.Row([\n",
    "                html.H1(\"Covid Dashboard\"),\n",
    "            ]),\n",
    "            dbc.Row([\n",
    "                dbc.Col([\n",
    "                    self.querystring(params)(dcc.Tabs)(id=\"tabs\", value=self.europe.name, \n",
    "                        children=[\n",
    "                            dcc.Tab(label=self.europe.title, \n",
    "                                    id=self.europe.name, \n",
    "                                    value=self.europe.name,\n",
    "                                    children=self.europe.layout(params)),\n",
    "                            dcc.Tab(label=self.asia.title, \n",
    "                                    id=self.asia.name, \n",
    "                                    value=self.asia.name,\n",
    "                                    children=self.asia.layout(params)),\n",
    "                            dcc.Tab(label=self.cases_only.title, \n",
    "                                    id=self.cases_only.name, \n",
    "                                    value=self.cases_only.name,\n",
    "                                    children=self.cases_only.layout(params)),\n",
    "                            dcc.Tab(label=self.deaths_only.title, \n",
    "                                    id=self.deaths_only.name, \n",
    "                                    value=self.deaths_only.name,\n",
    "                                    children=self.deaths_only.layout(params)),\n",
    "                        ]),\n",
    "                ])\n",
    "            ])\n",
    "        ], fluid=True)\n",
    " ```"
   ]
  },
  {
   "cell_type": "markdown",
   "metadata": {},
   "source": [
    "## Step 3: tracking parameters in subcomponents:"
   ]
  },
  {
   "cell_type": "markdown",
   "metadata": {},
   "source": [
    "A `CovidComposite` `DashComponent` consists of a `CovidTimeSeries`, a `CovidPieChart` and two dropdowns for metric and country selection. The value of the dropdowns get passed to the corresponding dropdowns of the subcomponents, which are hidden through the config params.\n",
    "\n",
    "We would like to keep track of the state of these dropdowns so we wrap them inside a `self.querystring()`:\n",
    "\n",
    "For the metric dropdown:\n",
    "```python\n",
    "    self.querystring(params)(dcc.Dropdown)(id='dashboard-metric-dropdown-'+self.name, ...)\n",
    "```\n",
    "\n",
    "For the country dropdown:\n",
    "```python\n",
    "    self.querystring(params)(dcc.Dropdown)(id='dashboard-country-dropdown-'+self.name, ...)\n",
    "```\n",
    "\n",
    "And we also make sure that parameters can be passed down the layout with\n",
    "\n",
    "```\n",
    "def layout(self, params=None):\n",
    "    ...\n",
    "```\n"
   ]
  },
  {
   "cell_type": "markdown",
   "metadata": {},
   "source": [
    "\n",
    "**Full definition of `CovidComposite`:**\n",
    "```python\n",
    "class CovidComposite(DashComponent):\n",
    "    def __init__(self, plot_factory, title=\"Covid Analysis\",\n",
    "                 hide_country_dropdown=False, \n",
    "                 include_countries=None, countries=None, \n",
    "                 hide_metric_dropdown=False, \n",
    "                 include_metrics=None, metric='cases', name=None):\n",
    "        super().__init__(title=title)\n",
    "        \n",
    "        if not self.include_countries:\n",
    "            self.include_countries = self.plot_factory.countries\n",
    "        if not self.countries:\n",
    "            self.countries = self.include_countries\n",
    "        \n",
    "        if not self.include_metrics:\n",
    "            self.include_metrics = self.plot_factory.metrics\n",
    "        if not self.metric:\n",
    "            self.metric = self.include_metrics[0]\n",
    "            \n",
    "        self.timeseries = CovidTimeSeries(\n",
    "                plot_factory, \n",
    "                hide_country_dropdown=True, countries=self.countries,\n",
    "                hide_metric_dropdown=True, metric=self.metric)\n",
    "        \n",
    "        self.piechart = CovidPieChart(\n",
    "                plot_factory, \n",
    "                hide_country_dropdown=True, countries=self.countries,\n",
    "                hide_metric_dropdown=True, metric=self.metric)\n",
    "        \n",
    "    def layout(self, params=None):\n",
    "        return dbc.Container([\n",
    "            dbc.Row([\n",
    "                dbc.Col([\n",
    "                    html.H1(self.title),\n",
    "                    self.make_hideable(\n",
    "                        self.querystring(params)(dcc.Dropdown)(\n",
    "                            id='dashboard-metric-dropdown-'+self.name,\n",
    "                            options=[{'label': metric, 'value': metric} for metric in self.include_metrics],\n",
    "                            value=self.metric,\n",
    "                        ), hide=self.hide_metric_dropdown),\n",
    "                    self.make_hideable(\n",
    "                        self.querystring(params)(dcc.Dropdown)(\n",
    "                            id='dashboard-country-dropdown-'+self.name,\n",
    "                            options=[{'label': metric, 'value': metric} for metric in self.include_countries],\n",
    "                            value=self.countries,\n",
    "                            multi=True,\n",
    "                        ), hide=self.hide_country_dropdown),\n",
    "                ], md=6),\n",
    "            ], justify=\"center\"),\n",
    "            dbc.Row([\n",
    "                dbc.Col([\n",
    "                    self.timeseries.layout(),\n",
    "                ], md=6),\n",
    "                dbc.Col([\n",
    "                    self.piechart.layout(),\n",
    "                ], md=6)\n",
    "            ])\n",
    "        ], fluid=True)\n",
    "    \n",
    "    def component_callbacks(self, app):\n",
    "        @app.callback(\n",
    "            Output('timeseries-country-dropdown-'+self.timeseries.name, 'value'),\n",
    "            Output('piechart-country-dropdown-'+self.piechart.name, 'value'),\n",
    "            Input('dashboard-country-dropdown-'+self.name, 'value'),\n",
    "        )\n",
    "        def update_timeseries_plot(countries):\n",
    "            return countries, countries\n",
    "        \n",
    "        @app.callback(\n",
    "            Output('timeseries-metric-dropdown-'+self.timeseries.name, 'value'),\n",
    "            Output('piechart-metric-dropdown-'+self.piechart.name, 'value'),\n",
    "            Input('dashboard-metric-dropdown-'+self.name, 'value'),\n",
    "        )\n",
    "        def update_timeseries_plot(metric):\n",
    "            return metric, metric\n",
    "```"
   ]
  },
  {
   "cell_type": "markdown",
   "metadata": {},
   "source": [
    "## Addendum: Tracking querystring params of current tab only\n",
    "\n",
    "When you define dashboard with lots of tabs, lots of components and lots of elements, the size of the querystring can explode rapidly, resulting in clumsy long urls to copy-paste. One solution if to only keep track of the parameters in the current open tab.\n",
    "\n",
    "The downside is that the rest of the dashboard will take default values, but the upside is significantly smaller querystrings.\n",
    "\n",
    "In order to implement this, you can make sure of the `DashComponentTabs` as a stand-in replacement for `dcc.Tabs`.\n",
    "\n",
    "You simply replace\n",
    "\n",
    "```python\n",
    "self.querystring(params)(dcc.Tabs)(id=\"tabs\", value=self.europe.name, \n",
    "                        children=[\n",
    "                            dcc.Tab(label=self.europe.title, \n",
    "                                    id=self.europe.name, \n",
    "                                    value=self.europe.name,\n",
    "                                    children=self.europe.layout(params)),\n",
    "                            dcc.Tab(label=self.asia.title, \n",
    "                                    id=self.asia.name, \n",
    "                                    value=self.asia.name,\n",
    "                                    children=self.asia.layout(params)),\n",
    "                            dcc.Tab(label=self.cases_only.title, \n",
    "                                    id=self.cases_only.name, \n",
    "                                    value=self.cases_only.name,\n",
    "                                    children=self.cases_only.layout(params)),\n",
    "                            dcc.Tab(label=self.deaths_only.title, \n",
    "                                    id=self.deaths_only.name, \n",
    "                                    value=self.deaths_only.name,\n",
    "                                    children=self.deaths_only.layout(params)),\n",
    "                        ]),\n",
    "```\n",
    "\n",
    "with \n",
    "\n",
    "```python\n",
    "self.querystring(params)(DashComponentTabs)(id=\"tabs\", \n",
    "                        tabs=[self.europe, self.asia, self.cases_only, self.deaths_only],\n",
    "                        params=params, component=self, single_tab_querystrings=True)\n",
    "```\n",
    "\n",
    "And automatically all parameters from tabs other than the current tab will be excluded from the url querystring"
   ]
  },
  {
   "cell_type": "code",
   "execution_count": null,
   "metadata": {},
   "outputs": [],
   "source": []
  }
 ],
 "metadata": {
  "kernelspec": {
   "display_name": "Python 3",
   "language": "python",
   "name": "python3"
  }
 },
 "nbformat": 4,
 "nbformat_minor": 4
}
