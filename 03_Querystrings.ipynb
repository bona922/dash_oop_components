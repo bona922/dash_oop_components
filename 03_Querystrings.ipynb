{
 "cells": [
  {
   "cell_type": "code",
   "execution_count": null,
   "metadata": {},
   "outputs": [],
   "source": [
    "#hide\n",
    "from dash_oop_components.core import *"
   ]
  },
  {
   "cell_type": "code",
   "execution_count": null,
   "metadata": {},
   "outputs": [],
   "source": [
    "component_ids = [\n",
    "    ('country_radiobutton', 'value'),\n",
    "    ('club_multidropdown', 'value'),\n",
    "    ('datepicker', 'start_date'),\n",
    "    ('submit-button', 'n_clicks')\n",
    "]\n",
    "\n",
    "# Turn the list of 4 (id, param) tuples into a list of\n",
    "# one component id tuple (len=4) and one parameter tuple (len=4):\n",
    "component_ids_zipped= list(zip(*component_ids))"
   ]
  },
  {
   "cell_type": "code",
   "execution_count": null,
   "metadata": {},
   "outputs": [],
   "source": [
    "values = [1,2,3,4]"
   ]
  },
  {
   "cell_type": "code",
   "execution_count": null,
   "metadata": {},
   "outputs": [],
   "source": [
    "def encode_state(querystring_params, values):\n",
    "    \"\"\"\n",
    "    return a urlencoded string that encodes the current state of the app\n",
    "    (as identified by component_ids+values)\n",
    "    First encodes as a list of tuples of tuples of :\n",
    "    (component_id, (parameter, value))\n",
    "    This then gets encoded by urlencode as two separate querystring parameters\n",
    "    e.g. ('tabs', ('value', 'cs_tab')) will get encoded as:\n",
    "          ?tabs=value&tabs=cs_tab\n",
    "    \"\"\"\n",
    "\n",
    "    statelist = [ tuple([z[0][0], [z[0][1], z[1]]]) for z in zip(querystring_params, values) if z[1] is not None]\n",
    "    params = urlencode(statelist,  doseq=True)\n",
    "    return f'?{params}'"
   ]
  },
  {
   "cell_type": "code",
   "execution_count": null,
   "metadata": {},
   "outputs": [],
   "source": [
    "querystring_params = [['blabla_id', 'value'], ['yadayda_id', 'value']]\n",
    "values = [1,2]"
   ]
  },
  {
   "cell_type": "code",
   "execution_count": null,
   "metadata": {},
   "outputs": [],
   "source": [
    "params = parse_state(\"blabla.com/\"+encode_state(querystring_params, values))"
   ]
  },
  {
   "cell_type": "code",
   "execution_count": null,
   "metadata": {},
   "outputs": [
    {
     "data": {
      "text/plain": [
       "[('blabla_id', ['value', 1]), ('yadayda_id', ['value', 2])]"
      ]
     },
     "execution_count": null,
     "metadata": {},
     "output_type": "execute_result"
    }
   ],
   "source": [
    "params = [ tuple([z[0][0], [z[0][1], z[1]]]) for z in zip(_querystring_params, values) if z[1] is not None]\n",
    "params"
   ]
  },
  {
   "cell_type": "code",
   "execution_count": null,
   "metadata": {},
   "outputs": [],
   "source": [
    "url1 = \"http://127.0.0.1:9000/?input-first-n-6eyChdG3RG=value&input-first-n-6eyChdG3RG=3&input-first-n-3jg8wSABRa=value&input-first-n-3jg8wSABRa=3&input-first-n-6eyChdG3RG=value&input-first-n-6eyChdG3RG=3&input-first-n-3jg8wSABRa=value&input-first-n-3jg8wSABRa=3&input-first-n-6eyChdG3RG=value&input-first-n-6eyChdG3RG=3&input-first-n-3jg8wSABRa=value&input-first-n-3jg8wSABRa=3&input-first-n-6eyChdG3RG=value&input-first-n-6eyChdG3RG=3&input-first-n-3jg8wSABRa=value&input-first-n-3jg8wSABRa=3&input-first-n-6eyChdG3RG=value&input-first-n-6eyChdG3RG=3&input-first-n-3jg8wSABRa=value&input-first-n-3jg8wSABRa=3&input-first-n-6eyChdG3RG=value&input-first-n-6eyChdG3RG=3&input-first-n-3jg8wSABRa=value&input-first-n-3jg8wSABRa=3&input-first-n-6eyChdG3RG=value&input-first-n-6eyChdG3RG=3&input-first-n-3jg8wSABRa=value&input-first-n-3jg8wSABRa=3&input-first-n-6eyChdG3RG=value&input-first-n-6eyChdG3RG=3&input-first-n-3jg8wSABRa=value&input-first-n-3jg8wSABRa=3&input-first-n-6eyChdG3RG=value&input-first-n-6eyChdG3RG=3&input-first-n-3jg8wSABRa=value&input-first-n-3jg8wSABRa=3&input-first-n-6eyChdG3RG=value&input-first-n-6eyChdG3RG=3&input-first-n-3jg8wSABRa=value&input-first-n-3jg8wSABRa=3&input-first-n-6eyChdG3RG=value&input-first-n-6eyChdG3RG=3&input-first-n-3jg8wSABRa=value&input-first-n-3jg8wSABRa=3&input-first-n-6eyChdG3RG=value&input-first-n-6eyChdG3RG=3&input-first-n-3jg8wSABRa=value&input-first-n-3jg8wSABRa=3&input-first-n-6eyChdG3RG=value&input-first-n-6eyChdG3RG=3&input-first-n-3jg8wSABRa=value&input-first-n-3jg8wSABRa=3&input-first-n-6eyChdG3RG=value&input-first-n-6eyChdG3RG=3&input-first-n-3jg8wSABRa=value&input-first-n-3jg8wSABRa=3&input-first-n-6eyChdG3RG=value&input-first-n-6eyChdG3RG=3&input-first-n-3jg8wSABRa=value&input-first-n-3jg8wSABRa=3&input-first-n-6eyChdG3RG=value&input-first-n-6eyChdG3RG=3&input-first-n-3jg8wSABRa=value&input-first-n-3jg8wSABRa=3&input-first-n-6eyChdG3RG=value&input-first-n-6eyChdG3RG=3&input-first-n-3jg8wSABRa=value&input-first-n-3jg8wSABRa=3&input-first-n-6eyChdG3RG=value&input-first-n-6eyChdG3RG=3&input-first-n-3jg8wSABRa=value&input-first-n-3jg8wSABRa=3&input-first-n-6eyChdG3RG=value&input-first-n-6eyChdG3RG=3&input-first-n-3jg8wSABRa=value&input-first-n-3jg8wSABRa=3&input-first-n-6eyChdG3RG=value&input-first-n-6eyChdG3RG=3&input-first-n-3jg8wSABRa=value&input-first-n-3jg8wSABRa=3&input-first-n-6eyChdG3RG=value&input-first-n-6eyChdG3RG=3&input-first-n-3jg8wSABRa=value&input-first-n-3jg8wSABRa=3&input-first-n-6eyChdG3RG=value&input-first-n-6eyChdG3RG=3&input-first-n-3jg8wSABRa=value&input-first-n-3jg8wSABRa=3&input-first-n-6eyChdG3RG=value&input-first-n-6eyChdG3RG=3&input-first-n-3jg8wSABRa=value&input-first-n-3jg8wSABRa=3&input-first-n-6eyChdG3RG=value&input-first-n-6eyChdG3RG=3&input-first-n-3jg8wSABRa=value&input-first-n-3jg8wSABRa=3&input-first-n-6eyChdG3RG=value&input-first-n-6eyChdG3RG=3&input-first-n-3jg8wSABRa=value&input-first-n-3jg8wSABRa=3&input-first-n-6eyChdG3RG=value&input-first-n-6eyChdG3RG=3&input-first-n-3jg8wSABRa=value&input-first-n-3jg8wSABRa=3&input-first-n-6eyChdG3RG=value&input-first-n-6eyChdG3RG=3&input-first-n-3jg8wSABRa=value&input-first-n-3jg8wSABRa=3&input-first-n-6eyChdG3RG=value&input-first-n-6eyChdG3RG=3&input-first-n-3jg8wSABRa=value&input-first-n-3jg8wSABRa=3&input-first-n-6eyChdG3RG=value&input-first-n-6eyChdG3RG=3&input-first-n-3jg8wSABRa=value&input-first-n-3jg8wSABRa=3&input-first-n-6eyChdG3RG=value&input-first-n-6eyChdG3RG=3&input-first-n-3jg8wSABRa=value&input-first-n-3jg8wSABRa=3&input-first-n-6eyChdG3RG=value&input-first-n-6eyChdG3RG=3&input-first-n-3jg8wSABRa=value&input-first-n-3jg8wSABRa=3\""
   ]
  },
  {
   "cell_type": "code",
   "execution_count": null,
   "metadata": {},
   "outputs": [
    {
     "data": {
      "text/plain": [
       "'http://127.0.0.1:9000/?input-first-n-6eyChdG3RG=value&input-first-n-6eyChdG3RG=3&input-first-n-3jg8wSABRa=value&input-first-n-3jg8wSABRa=3&input-first-n-6eyChdG3RG=value&input-first-n-6eyChdG3RG=3&input-first-n-3jg8wSABRa=value&input-first-n-3jg8wSABRa=3&input-first-n-6eyChdG3RG=value&input-first-n-6eyChdG3RG=3&input-first-n-3jg8wSABRa=value&input-first-n-3jg8wSABRa=3&input-first-n-6eyChdG3RG=value&input-first-n-6eyChdG3RG=3&input-first-n-3jg8wSABRa=value&input-first-n-3jg8wSABRa=3&input-first-n-6eyChdG3RG=value&input-first-n-6eyChdG3RG=3&input-first-n-3jg8wSABRa=value&input-first-n-3jg8wSABRa=3&input-first-n-6eyChdG3RG=value&input-first-n-6eyChdG3RG=3&input-first-n-3jg8wSABRa=value&input-first-n-3jg8wSABRa=3&input-first-n-6eyChdG3RG=value&input-first-n-6eyChdG3RG=3&input-first-n-3jg8wSABRa=value&input-first-n-3jg8wSABRa=3&input-first-n-6eyChdG3RG=value&input-first-n-6eyChdG3RG=3&input-first-n-3jg8wSABRa=value&input-first-n-3jg8wSABRa=3&input-first-n-6eyChdG3RG=value&input-first-n-6eyChdG3RG=3&input-first-n-3jg8wSABRa=value&input-first-n-3jg8wSABRa=3&input-first-n-6eyChdG3RG=value&input-first-n-6eyChdG3RG=3&input-first-n-3jg8wSABRa=value&input-first-n-3jg8wSABRa=3&input-first-n-6eyChdG3RG=value&input-first-n-6eyChdG3RG=3&input-first-n-3jg8wSABRa=value&input-first-n-3jg8wSABRa=3&input-first-n-6eyChdG3RG=value&input-first-n-6eyChdG3RG=3&input-first-n-3jg8wSABRa=value&input-first-n-3jg8wSABRa=3&input-first-n-6eyChdG3RG=value&input-first-n-6eyChdG3RG=3&input-first-n-3jg8wSABRa=value&input-first-n-3jg8wSABRa=3&input-first-n-6eyChdG3RG=value&input-first-n-6eyChdG3RG=3&input-first-n-3jg8wSABRa=value&input-first-n-3jg8wSABRa=3&input-first-n-6eyChdG3RG=value&input-first-n-6eyChdG3RG=3&input-first-n-3jg8wSABRa=value&input-first-n-3jg8wSABRa=3&input-first-n-6eyChdG3RG=value&input-first-n-6eyChdG3RG=3&input-first-n-3jg8wSABRa=value&input-first-n-3jg8wSABRa=3&input-first-n-6eyChdG3RG=value&input-first-n-6eyChdG3RG=3&input-first-n-3jg8wSABRa=value&input-first-n-3jg8wSABRa=3&input-first-n-6eyChdG3RG=value&input-first-n-6eyChdG3RG=3&input-first-n-3jg8wSABRa=value&input-first-n-3jg8wSABRa=3&input-first-n-6eyChdG3RG=value&input-first-n-6eyChdG3RG=3&input-first-n-3jg8wSABRa=value&input-first-n-3jg8wSABRa=3&input-first-n-6eyChdG3RG=value&input-first-n-6eyChdG3RG=3&input-first-n-3jg8wSABRa=value&input-first-n-3jg8wSABRa=3&input-first-n-6eyChdG3RG=value&input-first-n-6eyChdG3RG=3&input-first-n-3jg8wSABRa=value&input-first-n-3jg8wSABRa=3&input-first-n-6eyChdG3RG=value&input-first-n-6eyChdG3RG=3&input-first-n-3jg8wSABRa=value&input-first-n-3jg8wSABRa=3&input-first-n-6eyChdG3RG=value&input-first-n-6eyChdG3RG=3&input-first-n-3jg8wSABRa=value&input-first-n-3jg8wSABRa=3&input-first-n-6eyChdG3RG=value&input-first-n-6eyChdG3RG=3&input-first-n-3jg8wSABRa=value&input-first-n-3jg8wSABRa=3&input-first-n-6eyChdG3RG=value&input-first-n-6eyChdG3RG=3&input-first-n-3jg8wSABRa=value&input-first-n-3jg8wSABRa=3&input-first-n-6eyChdG3RG=value&input-first-n-6eyChdG3RG=3&input-first-n-3jg8wSABRa=value&input-first-n-3jg8wSABRa=3&input-first-n-6eyChdG3RG=value&input-first-n-6eyChdG3RG=3&input-first-n-3jg8wSABRa=value&input-first-n-3jg8wSABRa=3&input-first-n-6eyChdG3RG=value&input-first-n-6eyChdG3RG=3&input-first-n-3jg8wSABRa=value&input-first-n-3jg8wSABRa=3&input-first-n-6eyChdG3RG=value&input-first-n-6eyChdG3RG=3&input-first-n-3jg8wSABRa=value&input-first-n-3jg8wSABRa=3&input-first-n-6eyChdG3RG=value&input-first-n-6eyChdG3RG=3&input-first-n-3jg8wSABRa=value&input-first-n-3jg8wSABRa=3&input-first-n-6eyChdG3RG=value&input-first-n-6eyChdG3RG=3&input-first-n-3jg8wSABRa=value&input-first-n-3jg8wSABRa=3'"
      ]
     },
     "execution_count": null,
     "metadata": {},
     "output_type": "execute_result"
    }
   ],
   "source": [
    "url1"
   ]
  },
  {
   "cell_type": "code",
   "execution_count": null,
   "metadata": {},
   "outputs": [
    {
     "data": {
      "text/plain": [
       "{}"
      ]
     },
     "execution_count": null,
     "metadata": {},
     "output_type": "execute_result"
    }
   ],
   "source": [
    "urlencode(params,  doseq=True)"
   ]
  },
  {
   "cell_type": "code",
   "execution_count": null,
   "metadata": {},
   "outputs": [],
   "source": [
    "component_ids = [\n",
    "    ('country_radiobutton', 'value'),\n",
    "    ('club_multidropdown', 'value'),\n",
    "    ('datepicker', 'start_date'),\n",
    "    ('submit-button', 'n_clicks')\n",
    "]\n",
    "\n",
    "# Turn the list of 4 (id, param) tuples into a list of\n",
    "# one component id tuple (len=4) and one parameter tuple (len=4):\n",
    "component_ids_zipped= list(zip(*component_ids))\n",
    "component_ids_zipped\n",
    "values = [1,2,3,4]"
   ]
  },
  {
   "cell_type": "code",
   "execution_count": null,
   "metadata": {},
   "outputs": [
    {
     "data": {
      "text/plain": [
       "[('country_radiobutton', ('value', 1)),\n",
       " ('club_multidropdown', ('value', 2)),\n",
       " ('datepicker', ('start_date', 3)),\n",
       " ('submit-button', ('n_clicks', 4))]"
      ]
     },
     "execution_count": null,
     "metadata": {},
     "output_type": "execute_result"
    }
   ],
   "source": [
    "statelist = [(component_ids_zipped[0][i],\n",
    "                    (component_ids_zipped[1][i],\n",
    "                    values[i]))\n",
    "                    for i in range(len(values))\n",
    "                    if  values[i] is not None]\n",
    "statelist"
   ]
  },
  {
   "cell_type": "code",
   "execution_count": null,
   "metadata": {},
   "outputs": [],
   "source": [
    "listify_params"
   ]
  },
  {
   "cell_type": "code",
   "execution_count": null,
   "metadata": {},
   "outputs": [],
   "source": [
    "def parse_state(url):\n",
    "        \"\"\"\n",
    "        Returns a dict that summarizes the state of the app at the time that the\n",
    "        querystring url was generated.\n",
    "        The querystring parameters come in pairs (see above), e.g.:\n",
    "                  ?tabs=value&tabs=cs_tab\n",
    "        This will then be encoded as dictionary with the component_id as key\n",
    "        (e.g. 'tabs') and a list (param, value) pairs (e.g. ('value', 'cs_tab')\n",
    "        for that component_id as the item.\n",
    "        lists (somewhat hackily detected by the first char=='['), get evaluated\n",
    "        using ast.\n",
    "        Numbers are appropriately cast as either int or float.\n",
    "        \"\"\"\n",
    "\n",
    "        parse_result = urlparse(url)\n",
    "\n",
    "        statedict = parse_qs(parse_result.query)\n",
    "        if statedict:\n",
    "            for key, value in statedict.items():\n",
    "                statedict[key] = list(map(list, zip(value[0::2], value[1::2])))\n",
    "                # go through every parsed value pv and check whether it is a list\n",
    "                # or a number and cast appropriately:\n",
    "                for pv in statedict[key]:\n",
    "                    # if it's a list\n",
    "                    if isinstance(pv[1], str) and pv[1][0]=='[':\n",
    "                        pv[1] = ast.literal_eval(pv[1])\n",
    "\n",
    "                    #if it's a number\n",
    "                    if (isinstance(pv[1], str) and\n",
    "                        pv[1].lstrip('-').replace('.','',1).isdigit()):\n",
    "\n",
    "                        if pv[1].isdigit():\n",
    "                            pv[1] = int(pv[1])\n",
    "                        else:\n",
    "                            pv[1] = float(pv[1])\n",
    "        else: #return empty dict\n",
    "            statedict = dict()\n",
    "        return statedict"
   ]
  },
  {
   "cell_type": "code",
   "execution_count": null,
   "metadata": {},
   "outputs": [
    {
     "data": {
      "text/plain": [
       "{'input-first-n-6eyChdG3RG': [['value', 5],\n",
       "  ['value', 5],\n",
       "  ['value', 5],\n",
       "  ['value', 5],\n",
       "  ['value', 5],\n",
       "  ['value', 5],\n",
       "  ['value', 5]],\n",
       " 'input-first-n-3jg8wSABRa': [['value', 5],\n",
       "  ['value', 5],\n",
       "  ['value', 5],\n",
       "  ['value', 5],\n",
       "  ['value', 5],\n",
       "  ['value', 5],\n",
       "  ['value', 5]]}"
      ]
     },
     "execution_count": null,
     "metadata": {},
     "output_type": "execute_result"
    }
   ],
   "source": [
    "parse_state(\"http://127.0.0.1:9000/?input-first-n-6eyChdG3RG=value&input-first-n-6eyChdG3RG=5&input-first-n-3jg8wSABRa=value&input-first-n-3jg8wSABRa=5&input-first-n-6eyChdG3RG=value&input-first-n-6eyChdG3RG=5&input-first-n-3jg8wSABRa=value&input-first-n-3jg8wSABRa=5&input-first-n-6eyChdG3RG=value&input-first-n-6eyChdG3RG=5&input-first-n-3jg8wSABRa=value&input-first-n-3jg8wSABRa=5&input-first-n-6eyChdG3RG=value&input-first-n-6eyChdG3RG=5&input-first-n-3jg8wSABRa=value&input-first-n-3jg8wSABRa=5&input-first-n-6eyChdG3RG=value&input-first-n-6eyChdG3RG=5&input-first-n-3jg8wSABRa=value&input-first-n-3jg8wSABRa=5&input-first-n-6eyChdG3RG=value&input-first-n-6eyChdG3RG=5&input-first-n-3jg8wSABRa=value&input-first-n-3jg8wSABRa=5&input-first-n-6eyChdG3RG=value&input-first-n-6eyChdG3RG=5&input-first-n-3jg8wSABRa=value&input-first-n-3jg8wSABRa=5\")"
   ]
  },
  {
   "cell_type": "code",
   "execution_count": null,
   "metadata": {},
   "outputs": [
    {
     "data": {
      "text/plain": [
       "{'input-first-n-6eyChdG3RG': [['value', 3],\n",
       "  ['value', 3],\n",
       "  ['value', 3],\n",
       "  ['value', 3],\n",
       "  ['value', 3],\n",
       "  ['value', 3],\n",
       "  ['value', 3]],\n",
       " 'input-first-n-3jg8wSABRa': [['value', 3],\n",
       "  ['value', 3],\n",
       "  ['value', 3],\n",
       "  ['value', 3],\n",
       "  ['value', 3],\n",
       "  ['value', 3],\n",
       "  ['value', 3]]}"
      ]
     },
     "execution_count": null,
     "metadata": {},
     "output_type": "execute_result"
    }
   ],
   "source": [
    "parse_state(\"http://127.0.0.1:9000/?input-first-n-6eyChdG3RG=value&input-first-n-6eyChdG3RG=3&input-first-n-3jg8wSABRa=value&input-first-n-3jg8wSABRa=3&input-first-n-6eyChdG3RG=value&input-first-n-6eyChdG3RG=3&input-first-n-3jg8wSABRa=value&input-first-n-3jg8wSABRa=3&input-first-n-6eyChdG3RG=value&input-first-n-6eyChdG3RG=3&input-first-n-3jg8wSABRa=value&input-first-n-3jg8wSABRa=3&input-first-n-6eyChdG3RG=value&input-first-n-6eyChdG3RG=3&input-first-n-3jg8wSABRa=value&input-first-n-3jg8wSABRa=3&input-first-n-6eyChdG3RG=value&input-first-n-6eyChdG3RG=3&input-first-n-3jg8wSABRa=value&input-first-n-3jg8wSABRa=3&input-first-n-6eyChdG3RG=value&input-first-n-6eyChdG3RG=3&input-first-n-3jg8wSABRa=value&input-first-n-3jg8wSABRa=3&input-first-n-6eyChdG3RG=value&input-first-n-6eyChdG3RG=3&input-first-n-3jg8wSABRa=value&input-first-n-3jg8wSABRa=3\")"
   ]
  },
  {
   "cell_type": "code",
   "execution_count": null,
   "metadata": {},
   "outputs": [],
   "source": [
    "from urllib.parse import urlparse, parse_qs, urlencode\n",
    "\n",
    "import ast"
   ]
  },
  {
   "cell_type": "code",
   "execution_count": null,
   "metadata": {},
   "outputs": [],
   "source": [
    "url = encode_state(component_ids_zipped, values)"
   ]
  },
  {
   "cell_type": "code",
   "execution_count": null,
   "metadata": {},
   "outputs": [],
   "source": [
    "def parse_state(url):\n",
    "    \"\"\"\n",
    "    Returns a dict that summarizes the state of the app at the time that the\n",
    "    querystring url was generated.\n",
    "    The querystring parameters come in pairs (see above), e.g.:\n",
    "              ?tabs=value&tabs=cs_tab\n",
    "    This will then be encoded as dictionary with the component_id as key\n",
    "    (e.g. 'tabs') and a list (param, value) pairs (e.g. ('value', 'cs_tab')\n",
    "    for that component_id as the item.\n",
    "    lists (somewhat hackily detected by the first char=='['), get evaluated\n",
    "    using ast.\n",
    "    Numbers are appropriately cast as either int or float.\n",
    "    \"\"\"\n",
    "\n",
    "    parse_result = urlparse(url)\n",
    "\n",
    "    statedict = parse_qs(parse_result.query)\n",
    "    if statedict:\n",
    "        for key, value in statedict.items():\n",
    "            statedict[key] = list(map(list, zip(value[0::2], value[1::2])))\n",
    "            # go through every parsed value pv and check whether it is a list\n",
    "            # or a number and cast appropriately:\n",
    "            for pv in statedict[key]:\n",
    "                # if it's a list\n",
    "                if isinstance(pv[1], str) and pv[1][0]=='[':\n",
    "                    pv[1] = ast.literal_eval(pv[1])\n",
    "\n",
    "                #if it's a number\n",
    "                if (isinstance(pv[1], str) and\n",
    "                    pv[1].lstrip('-').replace('.','',1).isdigit()):\n",
    "\n",
    "                    if pv[1].isdigit():\n",
    "                        pv[1] = int(pv[1])\n",
    "                    else:\n",
    "                        pv[1] = float(pv[1])\n",
    "    else: #return empty dict\n",
    "        statedict = dict()\n",
    "    return statedict"
   ]
  },
  {
   "cell_type": "code",
   "execution_count": null,
   "metadata": {},
   "outputs": [],
   "source": [
    "params = parse_state(url)"
   ]
  },
  {
   "cell_type": "code",
   "execution_count": null,
   "metadata": {},
   "outputs": [],
   "source": [
    "def apply_value_from_querystring(params):\n",
    "    \"\"\"\n",
    "    Funky function wrapper that looks up the component_id in the\n",
    "    querystring parameter statedict, and if it finds it, loops\n",
    "    through the (param, value) combinations in the (item) list\n",
    "    and assign the right value to the right parameter.\n",
    "    Every component that is saved in the querystring needs to be wrapped\n",
    "    in this function in order for the saved parameters to be assigned\n",
    "    during loading.\n",
    "    \"\"\"\n",
    "    def wrapper(func):\n",
    "        def apply_value(*args, **kwargs):\n",
    "            if 'id' in kwargs and kwargs['id'] in params:\n",
    "                param_values = params[kwargs['id']]\n",
    "                for pv in param_values:\n",
    "                    kwargs[pv[0]] = pv[1]\n",
    "            return func(*args, **kwargs)\n",
    "        return apply_value\n",
    "    return wrapper"
   ]
  },
  {
   "cell_type": "code",
   "execution_count": null,
   "metadata": {},
   "outputs": [],
   "source": [
    "import uuid\n",
    "import random\n",
    "\n",
    "# -------------------------------------------\n",
    "# Remove this block to generate different\n",
    "# UUIDs everytime you run this code.\n",
    "# This block should be right below the uuid\n",
    "# import.\n",
    "rd = random.Random()\n",
    "rd.seed(0)\n",
    "uuid.uuid4 = lambda: uuid.UUID(int=rd.getrandbits(128))"
   ]
  },
  {
   "cell_type": "code",
   "execution_count": null,
   "metadata": {},
   "outputs": [
    {
     "name": "stdout",
     "output_type": "stream",
     "text": [
      "e3e70682c2094cac629f6fbed82c07cd\n",
      "f728b4fa42485e3a0a5d2f346baa9455\n",
      "eb1167b367a9c3787c65c1e582e2e662\n",
      "f7c1bd874da5e709d4713d60c8a70639\n"
     ]
    }
   ],
   "source": [
    "print(uuid.uuid4().hex)\n",
    "print(uuid.uuid4().hex)\n",
    "print(uuid.uuid4().hex)\n",
    "print(uuid.uuid4().hex)"
   ]
  },
  {
   "cell_type": "code",
   "execution_count": null,
   "metadata": {},
   "outputs": [
    {
     "name": "stdout",
     "output_type": "stream",
     "text": [
      "e3e70682c2094cac629f6fbed82c07cd\n",
      "f728b4fa42485e3a0a5d2f346baa9455\n",
      "eb1167b367a9c3787c65c1e582e2e662\n",
      "f7c1bd874da5e709d4713d60c8a70639\n"
     ]
    }
   ],
   "source": [
    "print(uuid.uuid4().hex)\n",
    "print(uuid.uuid4().hex)\n",
    "print(uuid.uuid4().hex)\n",
    "print(uuid.uuid4().hex)"
   ]
  },
  {
   "cell_type": "code",
   "execution_count": null,
   "metadata": {},
   "outputs": [],
   "source": [
    "def func1(id=None, a=1, b=2):\n",
    "    return [id, a, b]"
   ]
  },
  {
   "cell_type": "code",
   "execution_count": null,
   "metadata": {},
   "outputs": [],
   "source": [
    "class T:\n",
    "    def __init__(self, uuid=\"123\"):\n",
    "        self.uuid = uuid\n",
    "        self._track_store = {}\n",
    "        if hasattr(self, \"layout\"):\n",
    "            try:\n",
    "                self.layout(params=\"_store_querystring_params\")\n",
    "            except:\n",
    "                pass\n",
    "                \n",
    "    def store_in_querystring(self, params, *attrs):\n",
    "        \"\"\"decorator function that either:\n",
    "        1. If params is None or a dict:\n",
    "            Applies the parameter mapping params loaded from querystrings\n",
    "            to the underlying dash layout function \n",
    "        \n",
    "\n",
    "        2. if params=='_store_querystring_params':\n",
    "            Stores the dash layout function id and attributes attrs to be \n",
    "            tracked in querystrings\n",
    "        \n",
    "        \n",
    "        \"\"\"\n",
    "        if params==\"_store_querystring_params\":\n",
    "            def wrapper(func):\n",
    "                def apply_value(*args, **kwargs):\n",
    "                    self._track_store[kwargs['id']] = list(attrs)\n",
    "                    return func(*args, **kwargs)\n",
    "                return apply_value\n",
    "            return wrapper\n",
    "        if params is None:\n",
    "            def wrapper(func):\n",
    "                def func(*args, **kwargs):\n",
    "                    return func(*args, **kwargs)\n",
    "                return apply_value\n",
    "            return wrapper\n",
    "        else:\n",
    "            def wrapper(func):\n",
    "                def apply_value(*args, **kwargs):\n",
    "                    if 'id' in kwargs and kwargs['id'] in params:\n",
    "                        param_values = params[kwargs['id']]\n",
    "                        for pv in param_values:\n",
    "                            kwargs[pv[0]] = pv[1]\n",
    "                    return func(*args, **kwargs)\n",
    "                return apply_value\n",
    "            return wrapper\n",
    "        \n",
    "    def layout(self, params=None):\n",
    "        return [self.store_in_querystring(params, \"a\")(func1)(id=\"button-\"+self.uuid)]"
   ]
  },
  {
   "cell_type": "code",
   "execution_count": null,
   "metadata": {},
   "outputs": [],
   "source": [
    "t = T()"
   ]
  },
  {
   "cell_type": "code",
   "execution_count": null,
   "metadata": {},
   "outputs": [
    {
     "data": {
      "text/plain": [
       "{'button-123': ['a']}"
      ]
     },
     "execution_count": null,
     "metadata": {},
     "output_type": "execute_result"
    }
   ],
   "source": [
    "t._track_store"
   ]
  },
  {
   "cell_type": "code",
   "execution_count": null,
   "metadata": {},
   "outputs": [
    {
     "data": {
      "text/plain": [
       "[['button-123', 1, 2]]"
      ]
     },
     "execution_count": null,
     "metadata": {},
     "output_type": "execute_result"
    }
   ],
   "source": [
    "t.layout(None)"
   ]
  },
  {
   "cell_type": "code",
   "execution_count": null,
   "metadata": {},
   "outputs": [
    {
     "data": {
      "text/plain": [
       "[['button-123', 2, 3]]"
      ]
     },
     "execution_count": null,
     "metadata": {},
     "output_type": "execute_result"
    }
   ],
   "source": [
    "t.layout(params)"
   ]
  },
  {
   "cell_type": "code",
   "execution_count": null,
   "metadata": {},
   "outputs": [],
   "source": [
    "params = {'button-123': [['a', 2], ['b', 3]]}"
   ]
  },
  {
   "cell_type": "code",
   "execution_count": null,
   "metadata": {},
   "outputs": [],
   "source": []
  }
 ],
 "metadata": {
  "kernelspec": {
   "display_name": "Python 3",
   "language": "python",
   "name": "python3"
  }
 },
 "nbformat": 4,
 "nbformat_minor": 4
}
