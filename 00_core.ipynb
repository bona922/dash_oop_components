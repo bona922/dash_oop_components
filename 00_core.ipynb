{
 "cells": [
  {
   "cell_type": "code",
   "execution_count": null,
   "metadata": {},
   "outputs": [],
   "source": [
    "# default_exp core"
   ]
  },
  {
   "cell_type": "markdown",
   "metadata": {},
   "source": [
    "# Library Documentation\n",
    "\n",
    "> API details for DashComponentBase, DashFigureFactory, DashComponent and DashApp"
   ]
  },
  {
   "cell_type": "code",
   "execution_count": null,
   "metadata": {},
   "outputs": [],
   "source": [
    "#hide\n",
    "from nbdev.showdoc import *"
   ]
  },
  {
   "cell_type": "markdown",
   "metadata": {},
   "source": [
    "## imports"
   ]
  },
  {
   "cell_type": "code",
   "execution_count": null,
   "metadata": {},
   "outputs": [],
   "source": [
    "#export\n",
    "\n",
    "import sys\n",
    "from abc import ABC\n",
    "import inspect\n",
    "import types\n",
    "from importlib import import_module\n",
    "\n",
    "import shortuuid\n",
    "import oyaml as yaml\n",
    "\n",
    "import dash\n",
    "import jupyter_dash\n",
    "\n",
    "import dash_bootstrap_components as dbc"
   ]
  },
  {
   "cell_type": "code",
   "execution_count": null,
   "metadata": {},
   "outputs": [],
   "source": [
    "#export\n",
    "import dash_core_components as dcc\n",
    "import dash_html_components as html\n",
    "\n",
    "from dash.dependencies import Input, Output, State\n",
    "from dash.exceptions import PreventUpdate"
   ]
  },
  {
   "cell_type": "markdown",
   "metadata": {},
   "source": [
    "## DashComponentBase"
   ]
  },
  {
   "cell_type": "markdown",
   "metadata": {},
   "source": [
    "All classes in the library are derived from `DashComponentBase` which is a an abstract base class (ABC) that provides:\n",
    "\n",
    "- automatic storing of parameters to attributes\n",
    "- automatic storing of parameters to a `._stored_params` property\n",
    "- exporting component to a config dict with `.to_config()`\n",
    "- exporting component to a yaml file with `.to_yaml()`\n",
    "- building component from a config dict with classmethod `.from_config()`\n",
    "- building component from a yaml file with classmethod `.from_yaml()`\n"
   ]
  },
  {
   "cell_type": "code",
   "execution_count": null,
   "metadata": {},
   "outputs": [],
   "source": [
    "#export\n",
    "class DashComponentBase(ABC):  \n",
    "    \"\"\"Base class for all dash_oop_components classes. \n",
    "    \n",
    "    Stores parameter of child classes to attributes and ._stored_params.\n",
    "    Proved .to_config(), to_yaml(), .from_config() and .from_yaml() methods\n",
    "    \"\"\"\n",
    "    def __init__(self, no_store=None, no_attr=None, no_config=None, child_depth=3):\n",
    "        \"\"\"\n",
    "        Args:\n",
    "            no_store {list, bool}: either a list of parameters not to store or True, in which\n",
    "                case no parameters gets stored.\n",
    "            no_attr {list, bool}: either a list of parameter not to assign to attribute or True,\n",
    "                in which case no parameters get assigned to attributes\n",
    "            no_config {list, bool}: either a list of parameter not to store to ._stored_params\n",
    "                or True, in which case no parameters get saved to ._stored_params\n",
    "            child_depth (int): how deep the child is from which parameters will be read.\n",
    "                Defaults to 3 (i.e. The child of the child of DashComponentBase)\n",
    "        \"\"\"\n",
    "        self._store_child_params(no_store, no_attr, no_config, child_depth)\n",
    "\n",
    "    def _store_child_params(self, no_store=None, no_attr=None, no_config=None, child_depth=3):\n",
    "        \"\"\"\n",
    "        Args:\n",
    "            no_store {list, bool}: either a list of parameters not to store or True, in which\n",
    "                case no parameters gets stored.\n",
    "            no_attr {list, bool}: either a list of parameter not to assign to attribute or True,\n",
    "                in which case no parameters get assigned to attributes\n",
    "            no_config {list, bool}: either a list of parameter not to store to ._stored_params\n",
    "                or True, in which case no parameters get saved to ._stored_params\n",
    "            child_depth (int): how deep the child is from which parameters will be read.\n",
    "                Defaults to 3 (i.e. The child of the child of DashComponentBase)\n",
    "        \"\"\"\n",
    "             \n",
    "        if not hasattr(self, '_stored_params'): \n",
    "            self._stored_params = {}\n",
    "            \n",
    "        child_frame = sys._getframe(child_depth)\n",
    "        child_args = child_frame.f_code.co_varnames[1:child_frame.f_code.co_argcount]\n",
    "        child_dict = {arg: child_frame.f_locals[arg] for arg in child_args}\n",
    "        if 'kwargs' in child_frame.f_locals:\n",
    "            child_dict['kwargs'] = child_frame.f_locals['kwargs']\n",
    "        \n",
    "        if isinstance(no_store, bool) and no_store:\n",
    "            return\n",
    "        else:\n",
    "            if no_store is None: no_store = tuple()\n",
    "        \n",
    "        if isinstance(no_attr, bool) and no_attr: dont_attr = True\n",
    "        else:\n",
    "            if no_attr is None: no_attr = tuple()\n",
    "            dont_attr = False \n",
    "            \n",
    "        if isinstance(no_config, bool) and no_param: dont_config = True\n",
    "        else:\n",
    "            if no_config is None: no_config= tuple()\n",
    "            dont_config = False \n",
    "\n",
    "        for name, value in child_dict.items():\n",
    "            if name in {'dash_component', 'dash_figure_factory', 'dash_app'}:\n",
    "                raise ValueError(f\"Please do not use {name} as a parameter name, \"\n",
    "                                 \"as this results in a confusing and hard to parse config.\")\n",
    "            if not dont_attr and name not in no_store and name not in no_attr:\n",
    "                setattr(self, name, value)\n",
    "            if not dont_config and name not in no_store and name not in no_config:\n",
    "                self._stored_params[name] = value\n",
    "      \n",
    "    def to_config(self):\n",
    "        \"\"\"\n",
    "        returns a dict with class name, module and params \n",
    "        \"\"\"\n",
    "        return dict(dash_component=dict(\n",
    "            name=self.__class__.__name__, \n",
    "            module=self.__class__.__module__,\n",
    "            params=self._stored_params))\n",
    "        \n",
    "    def to_yaml(self, filepath=None):\n",
    "        \"\"\"\n",
    "        stores a yaml configuration to disk. \n",
    "        \n",
    "        If no filepath is given, returns a str of the yaml config.\n",
    "        \"\"\"\n",
    "        yaml_config = self.to_config()\n",
    "        if filepath is not None:\n",
    "            yaml.dump(yaml_config, open(filepath, \"w\"))\n",
    "            return\n",
    "        return yaml.dump(yaml_config)\n",
    "    \n",
    "    @classmethod\n",
    "    def from_config(cls, config, **update_params):\n",
    "        \"\"\"\n",
    "        Loads a dash_oop_component class from a configuration dict.\n",
    "        \n",
    "        Args:\n",
    "            config (dict): configuration dict, generated from .to_config()\n",
    "            update_params: a dict of parameters to be overridden by update_params\n",
    "        \n",
    "        Returns:\n",
    "            Instance of the class defined in the config.\n",
    "        \"\"\"\n",
    "        if 'dash_component' in config:\n",
    "            config = config['dash_component']\n",
    "        elif 'dash_figure_factory' in config:\n",
    "            config = config['dash_figure_factory']\n",
    "        elif 'dash_app' in config:\n",
    "            config = config['dash_app']\n",
    "        else:\n",
    "            raise ValueError(\"I only know how to build dash_component, \"\n",
    "                             \"dash_figure_factory and dash_app from config!\", str(config))\n",
    "        \n",
    "        params = config['params']\n",
    "        if not params: params = {}\n",
    "            \n",
    "        for k, v in update_params.items():\n",
    "            if k in params:\n",
    "                params[k] = v\n",
    "            elif 'kwargs' in params:\n",
    "                params['kwargs'][k]=v\n",
    "            else:\n",
    "                raise ValueError(f\"This dash_oop_component does not take {k} as an argument, \"\n",
    "                                \"nor does it take **kwargs!\")\n",
    "        \n",
    "        for k, v in params.items():\n",
    "            if isinstance(v, dict) and ('dash_figure_factory' in v or 'dash_component' in v):\n",
    "                params[k] = DashComponentBase.from_config(v)\n",
    "        \n",
    "        component_class = getattr(import_module(config['module']), config['name'])\n",
    "        if 'kwargs' in params:\n",
    "            kwargs = params.pop('kwargs')\n",
    "        else:\n",
    "            kwargs = {}\n",
    "        return component_class(**params, **kwargs)\n",
    "    \n",
    "    @classmethod\n",
    "    def from_yaml(cls, yaml_filepath, **update_params):\n",
    "        \"\"\"\n",
    "        Loads a dash_oop_component class from a yaml file.\n",
    "        \n",
    "        Args:\n",
    "            yaml_filepath (str, Path): filepath of a .yaml file, generated from .to_yaml()\n",
    "            update_params: a dict of parameters to be overridden by update_params\n",
    "        \n",
    "        Returns:\n",
    "            Instance of the class defined in the yaml file.\n",
    "        \"\"\"\n",
    "        config = yaml.safe_load(open(str(yaml_filepath), \"r\"))\n",
    "        return cls.from_config(config, **update_params)\n",
    "        "
   ]
  },
  {
   "cell_type": "code",
   "execution_count": null,
   "metadata": {},
   "outputs": [
    {
     "data": {
      "text/markdown": [
       "<h4 id=\"DashComponentBase.to_config\" class=\"doc_header\"><code>DashComponentBase.to_config</code><a href=\"__main__.py#L68\" class=\"source_link\" style=\"float:right\">[source]</a></h4>\n",
       "\n",
       "> <code>DashComponentBase.to_config</code>()\n",
       "\n",
       "returns a dict with class name, module and params "
      ],
      "text/plain": [
       "<IPython.core.display.Markdown object>"
      ]
     },
     "metadata": {},
     "output_type": "display_data"
    },
    {
     "data": {
      "text/markdown": [
       "<h4 id=\"DashComponentBase.to_yaml\" class=\"doc_header\"><code>DashComponentBase.to_yaml</code><a href=\"__main__.py#L77\" class=\"source_link\" style=\"float:right\">[source]</a></h4>\n",
       "\n",
       "> <code>DashComponentBase.to_yaml</code>(**`filepath`**=*`None`*)\n",
       "\n",
       "stores a yaml configuration to disk. \n",
       "\n",
       "If no filepath is given, returns a str of the yaml config."
      ],
      "text/plain": [
       "<IPython.core.display.Markdown object>"
      ]
     },
     "metadata": {},
     "output_type": "display_data"
    },
    {
     "data": {
      "text/markdown": [
       "<h4 id=\"DashComponentBase.from_config\" class=\"doc_header\"><code>DashComponentBase.from_config</code><a href=\"__main__.py#L89\" class=\"source_link\" style=\"float:right\">[source]</a></h4>\n",
       "\n",
       "> <code>DashComponentBase.from_config</code>(**`config`**, **\\*\\*`update_params`**)\n",
       "\n",
       "Loads a dash_oop_component class from a configuration dict.\n",
       "\n",
       "Args:\n",
       "    config (dict): configuration dict, generated from .to_config()\n",
       "    update_params: a dict of parameters to be overridden by update_params\n",
       "\n",
       "Returns:\n",
       "    Instance of the class defined in the config."
      ],
      "text/plain": [
       "<IPython.core.display.Markdown object>"
      ]
     },
     "metadata": {},
     "output_type": "display_data"
    },
    {
     "data": {
      "text/markdown": [
       "<h4 id=\"DashComponentBase.from_config\" class=\"doc_header\"><code>DashComponentBase.from_config</code><a href=\"__main__.py#L89\" class=\"source_link\" style=\"float:right\">[source]</a></h4>\n",
       "\n",
       "> <code>DashComponentBase.from_config</code>(**`config`**, **\\*\\*`update_params`**)\n",
       "\n",
       "Loads a dash_oop_component class from a configuration dict.\n",
       "\n",
       "Args:\n",
       "    config (dict): configuration dict, generated from .to_config()\n",
       "    update_params: a dict of parameters to be overridden by update_params\n",
       "\n",
       "Returns:\n",
       "    Instance of the class defined in the config."
      ],
      "text/plain": [
       "<IPython.core.display.Markdown object>"
      ]
     },
     "metadata": {},
     "output_type": "display_data"
    }
   ],
   "source": [
    "show_doc(DashComponentBase.to_config)\n",
    "show_doc(DashComponentBase.to_yaml)\n",
    "show_doc(DashComponentBase.from_config)\n",
    "show_doc(DashComponentBase.from_config)"
   ]
  },
  {
   "cell_type": "markdown",
   "metadata": {},
   "source": [
    "### Example use of DashComponentBase"
   ]
  },
  {
   "cell_type": "code",
   "execution_count": null,
   "metadata": {},
   "outputs": [],
   "source": [
    "class T(DashComponentBase): \n",
    "    def __init__(self, a=1, b=2, **kwargs):\n",
    "        super().__init__(child_depth=2)\n",
    "        \n",
    "t = T(a=2, b=3)"
   ]
  },
  {
   "cell_type": "markdown",
   "metadata": {},
   "source": [
    "configuration dict:"
   ]
  },
  {
   "cell_type": "code",
   "execution_count": null,
   "metadata": {},
   "outputs": [
    {
     "name": "stdout",
     "output_type": "stream",
     "text": [
      "{'dash_component': {'name': 'T', 'module': '__main__', 'params': {'a': 2, 'b': 3, 'kwargs': {}}}}\n"
     ]
    }
   ],
   "source": [
    "print(t.to_config())"
   ]
  },
  {
   "cell_type": "markdown",
   "metadata": {},
   "source": [
    "yaml configuration:"
   ]
  },
  {
   "cell_type": "code",
   "execution_count": null,
   "metadata": {},
   "outputs": [
    {
     "name": "stdout",
     "output_type": "stream",
     "text": [
      "dash_component:\n",
      "  name: T\n",
      "  module: __main__\n",
      "  params:\n",
      "    a: 2\n",
      "    b: 3\n",
      "    kwargs: {}\n",
      "\n"
     ]
    }
   ],
   "source": [
    "print(t.to_yaml())"
   ]
  },
  {
   "cell_type": "markdown",
   "metadata": {},
   "source": [
    "Tests showing everything works as expected"
   ]
  },
  {
   "cell_type": "code",
   "execution_count": null,
   "metadata": {},
   "outputs": [],
   "source": [
    "assert t.a == 2\n",
    "assert t.b == 3\n",
    "assert t.to_config()['dash_component']['name'] == \"T\"\n",
    "assert t.to_config()['dash_component']['module'] == \"__main__\"\n",
    "assert t.to_config()['dash_component']['params']['a'] == t.a\n",
    "assert t.to_config()['dash_component']['params']['b'] == t.b"
   ]
  },
  {
   "cell_type": "markdown",
   "metadata": {},
   "source": [
    "Store to yaml:"
   ]
  },
  {
   "cell_type": "code",
   "execution_count": null,
   "metadata": {},
   "outputs": [],
   "source": [
    "t.to_yaml(\"T.yaml\")"
   ]
  },
  {
   "cell_type": "markdown",
   "metadata": {},
   "source": [
    "Load from yaml and check that loaded instance `t2` is same as `t`:"
   ]
  },
  {
   "cell_type": "code",
   "execution_count": null,
   "metadata": {},
   "outputs": [],
   "source": [
    "t2 = T.from_yaml(\"T.yaml\")\n",
    "\n",
    "assert t2.to_config()['dash_component']['name'] == \"T\"\n",
    "assert t2.to_config()['dash_component']['module'] == \"__main__\"\n",
    "assert t2.to_config()['dash_component']['params']['a'] == t.a\n",
    "assert t2.to_config()['dash_component']['params']['b'] == t.b"
   ]
  },
  {
   "cell_type": "markdown",
   "metadata": {},
   "source": [
    "Override parameters upon loading:"
   ]
  },
  {
   "cell_type": "code",
   "execution_count": null,
   "metadata": {},
   "outputs": [],
   "source": [
    "t2 = T.from_yaml(\"T.yaml\", b=4)\n",
    "assert t2.b == 4"
   ]
  },
  {
   "cell_type": "markdown",
   "metadata": {},
   "source": [
    "If `**kwargs` in the class definition than unknown parameters get loads to `self.kwargs`:"
   ]
  },
  {
   "cell_type": "code",
   "execution_count": null,
   "metadata": {},
   "outputs": [],
   "source": [
    "t2 = T.from_yaml(\"T.yaml\", c=5)\n",
    "assert hasattr(t2, \"kwargs\")\n",
    "assert \"c\" in t2.kwargs\n",
    "assert t2.kwargs[\"c\"] == 5"
   ]
  },
  {
   "cell_type": "markdown",
   "metadata": {},
   "source": [
    "## DashFigureFactory"
   ]
  },
  {
   "cell_type": "markdown",
   "metadata": {},
   "source": [
    "A `DashFigureFactory` loads data and provides plots, tables, lists, dicts that can be used for building your dashboard.\n",
    "\n",
    "This provides a clean seperation where all your data preparation and visualisation logic goes into one place (the `DashFigureFactory`) and all the dashboard layout and interaction logic goes into another (the `DashComponents`).\n",
    "\n",
    "When used as a parameter to a `DashComponent` (e.g. parameter `figure_factory`)the parameter `figure_factory` gets replaced by the figure factory configuration dict. This means that a `DashComponent` automatically loads its underlying `DashFigureFactory` parameters upon load."
   ]
  },
  {
   "cell_type": "code",
   "execution_count": null,
   "metadata": {},
   "outputs": [],
   "source": [
    "#export\n",
    "\n",
    "class DashFigureFactory(DashComponentBase):\n",
    "    \"\"\"\n",
    "    Helper class to store data for a dashboard and provide e.g. plotting functions.\n",
    "    \n",
    "    You should seperate the datastorage/plotting logic from the dashboard logic.\n",
    "    All data/plotting logic goes into a DashFigureFactory.\n",
    "    \n",
    "    All dashboard logic goes into a DashComponent.\n",
    "    \n",
    "    Stores to config under key 'dash_figure_factory'\n",
    "    \"\"\"\n",
    "    def __init__(self, no_store=None, no_attr=None, no_config=None):\n",
    "        super().__init__(no_store=None, no_attr=None, no_config=None)\n",
    "        \n",
    "    def to_config(self):\n",
    "        return dict(dash_figure_factory=dict(\n",
    "            name=self.__class__.__name__, \n",
    "            module=self.__class__.__module__,\n",
    "            params=self._stored_params))\n",
    "        \n",
    "    "
   ]
  },
  {
   "cell_type": "code",
   "execution_count": null,
   "metadata": {},
   "outputs": [
    {
     "data": {
      "text/markdown": [
       "<h2 id=\"DashFigureFactory\" class=\"doc_header\"><code>class</code> <code>DashFigureFactory</code><a href=\"\" class=\"source_link\" style=\"float:right\">[source]</a></h2>\n",
       "\n",
       "> <code>DashFigureFactory</code>(**`no_store`**=*`None`*, **`no_attr`**=*`None`*, **`no_config`**=*`None`*) :: [`DashComponentBase`](/dash_oop_components/core.html#DashComponentBase)\n",
       "\n",
       "Helper class to store data for a dashboard and provide e.g. plotting functions.\n",
       "\n",
       "You should seperate the datastorage/plotting logic from the dashboard logic.\n",
       "All data/plotting logic goes into a DashFigureFactory.\n",
       "\n",
       "All dashboard logic goes into a DashComponent.\n",
       "\n",
       "Stores to config under key 'dash_figure_factory'"
      ],
      "text/plain": [
       "<IPython.core.display.Markdown object>"
      ]
     },
     "metadata": {},
     "output_type": "display_data"
    }
   ],
   "source": [
    "show_doc(DashFigureFactory)"
   ]
  },
  {
   "cell_type": "markdown",
   "metadata": {},
   "source": [
    "### Example use of `DashFigureFactory`"
   ]
  },
  {
   "cell_type": "markdown",
   "metadata": {},
   "source": [
    "A DashFigureFactory that simply stores a list and has a `return_list()` method:"
   ]
  },
  {
   "cell_type": "code",
   "execution_count": null,
   "metadata": {},
   "outputs": [],
   "source": [
    "class ListFactory(DashFigureFactory):\n",
    "    def __init__(self, list_input):\n",
    "        super().__init__()\n",
    "        \n",
    "    def list_length(self):\n",
    "        return len(self.list_input)\n",
    "        \n",
    "    def return_list(self, first_n_items=None):\n",
    "        if first_n_items is None: first_n_items = self.list_length()\n",
    "        if first_n_items <= len(self.list_input):\n",
    "            return self.list_input[:first_n_items]\n",
    "        return None"
   ]
  },
  {
   "cell_type": "code",
   "execution_count": null,
   "metadata": {},
   "outputs": [
    {
     "name": "stdout",
     "output_type": "stream",
     "text": [
      "['this', 'is', 'a', 'dumb', 'example']\n"
     ]
    }
   ],
   "source": [
    "lf = ListFactory([\"this\", \"is\", \"a\", \"dumb\", \"example\"])\n",
    "print(lf.return_list())"
   ]
  },
  {
   "cell_type": "code",
   "execution_count": null,
   "metadata": {},
   "outputs": [
    {
     "name": "stdout",
     "output_type": "stream",
     "text": [
      "{'dash_figure_factory': {'name': 'ListFactory', 'module': '__main__', 'params': {'list_input': ['this', 'is', 'a', 'dumb', 'example']}}}\n"
     ]
    }
   ],
   "source": [
    "print(lf.to_config())"
   ]
  },
  {
   "cell_type": "code",
   "execution_count": null,
   "metadata": {},
   "outputs": [
    {
     "name": "stdout",
     "output_type": "stream",
     "text": [
      "dash_figure_factory:\n",
      "  name: ListFactory\n",
      "  module: __main__\n",
      "  params:\n",
      "    list_input:\n",
      "    - this\n",
      "    - is\n",
      "    - a\n",
      "    - dumb\n",
      "    - example\n",
      "\n"
     ]
    }
   ],
   "source": [
    "print(lf.to_yaml())"
   ]
  },
  {
   "cell_type": "code",
   "execution_count": null,
   "metadata": {},
   "outputs": [],
   "source": [
    "assert lf.list_input == ['this', 'is', 'a', 'dumb', 'example']\n",
    "assert lf.return_list() == ['this', 'is', 'a', 'dumb', 'example']\n",
    "assert lf.return_list(2) == ['this', 'is']"
   ]
  },
  {
   "cell_type": "markdown",
   "metadata": {},
   "source": [
    "Storing and loading from yaml:"
   ]
  },
  {
   "cell_type": "code",
   "execution_count": null,
   "metadata": {},
   "outputs": [],
   "source": [
    "lf.to_yaml(\"ff.yaml\")"
   ]
  },
  {
   "cell_type": "code",
   "execution_count": null,
   "metadata": {},
   "outputs": [],
   "source": [
    "lf2 = DashFigureFactory.from_yaml(\"ff.yaml\")\n",
    "\n",
    "assert lf2.list_input == lf.list_input\n",
    "assert lf2.return_list() == lf.return_list()\n",
    "assert lf2.return_list(2) == lf.return_list(2)\n",
    "\n"
   ]
  },
  {
   "cell_type": "markdown",
   "metadata": {},
   "source": [
    "## DashComponent"
   ]
  },
  {
   "cell_type": "markdown",
   "metadata": {},
   "source": [
    "A `DashComponent` combines a `dash` layout with `dash` callbacks. \n",
    "\n",
    "It provides:\n",
    "- a `.layout()` method that returns the layout for the components\n",
    "- a `.register_callbacks(app)` method that allow you to register the \n",
    "    callbacks of the component to a specific dash app\n",
    "- automatic conversion of any `DashFigureFactory` parameters to it's config \n",
    "    (this means that figure factory will be automatically loaded upon load)\n",
    "- automatic registration of all `DashComponent` subcomponents in its attributes\n",
    "    (which means that callbacks of all subcomponents will also automatically be registered)\n",
    "- a `make_hideable` staticmethod that makes it easy to hide parts of a layout \n",
    "    depending on configuration bools\n",
    "    \n",
    "It inherits from `DashComponentBase` so:\n",
    "- All parameters are automatically stored to attributes and to ._stored_params\n",
    "- Can be exported and loaded from config and yaml\n"
   ]
  },
  {
   "cell_type": "code",
   "execution_count": null,
   "metadata": {},
   "outputs": [],
   "source": [
    "#export\n",
    "\n",
    "class DashComponent(DashComponentBase):\n",
    "    \"\"\"DashComponent is a bundle of a dash layout and callbacks that\n",
    "    can make use of DashFigureFactory objects. \n",
    "\n",
    "    A DashComponent can have DashComponent subcomponents, that\n",
    "    you register with register_components(). \n",
    "\n",
    "    DashComponents allow you to:\n",
    "\n",
    "    1. Write clean, re-usable, composable code for your dashboard\n",
    "    2. Store your dashboard to config files\n",
    "    3. Load your dashboard from config files\n",
    "\n",
    "    Each DashComponent should have a unique .name so that dash id's don't clash.\n",
    "    If no name is given, DashComponent generates a unique uuid name. This allows\n",
    "    for multiple instance of the same component type in a single layout. \n",
    "    But remember to add `+self.name` to all id's.\n",
    "\n",
    "    Important:\n",
    "        define your callbacks in `_register_callbacks()` (note underscore!) and\n",
    "        DashComponent will register callbacks of subcomponents in addition\n",
    "        to _register_callbacks() when calling register_callbacks()\n",
    "    \"\"\"\n",
    "    def __init__(self, title=\"Dash\", name=None, \n",
    "                 no_store=None, no_attr=None, no_config=None):\n",
    "        \"\"\"initialize the DashComponent\n",
    "\n",
    "        Args:\n",
    "            title (str, optional): Title of component. Defaults to \"Dash\".\n",
    "            name (str, optional): unique name to add to Component elements. \n",
    "                        If None then random uuid is generated to make sure \n",
    "                        it's unique. Defaults to None.\n",
    "        \"\"\"\n",
    "        super().__init__(no_store, no_attr, no_config)\n",
    "        self._convert_ff_config_params()\n",
    "        \n",
    "        self.title = title\n",
    "        self.name = name\n",
    "        if self.name is None:\n",
    "            self.name = str(shortuuid.ShortUUID().random(length=10))\n",
    "\n",
    "        self._components = []\n",
    "        \n",
    "    def _convert_ff_config_params(self):\n",
    "        \"\"\"convert any DashFigureFactory in the ._stored_params dict to its config\"\"\"\n",
    "        for k, v in self._stored_params.items():\n",
    "            if isinstance(v, DashFigureFactory):\n",
    "                self._stored_params[k] = self._stored_params[k].to_config()\n",
    "                \n",
    "    @staticmethod\n",
    "    def make_hideable(element, hide=False):\n",
    "        \"\"\"helper function to optionally not display an element in a layout.        \n",
    "\n",
    "        Example:\n",
    "            make_hideable(dbc.Col([cutoff.layout()]), hide=hide_cutoff)\n",
    "\n",
    "        Args:\n",
    "            hide(bool): wrap the element inside a hidden html.div. If the element \n",
    "                        is a dbc.Col or a dbc.FormGroup, wrap element.children in\n",
    "                        a hidden html.Div instead. Defaults to False.\n",
    "        \"\"\" \n",
    "        if hide:\n",
    "            if isinstance(element, dbc.Col) or isinstance(element, dbc.FormGroup):\n",
    "                return html.Div(element.children, style=dict(display=\"none\"))\n",
    "            else:\n",
    "                return html.Div(element, style=dict(display=\"none\"))\n",
    "        else:\n",
    "            return element\n",
    "        \n",
    "    def register_components(self): \n",
    "        \"\"\"register subcomponents so that their callbacks will be registered\n",
    "        \n",
    "        Searches self.__dict__, finds all DashComponents and adds them to self._components\n",
    "        \"\"\"\n",
    "        if not hasattr(self, '_components'):\n",
    "            self._components = []\n",
    "        for comp in self.__dict__.values():\n",
    "            if isinstance(comp, DashComponent) and comp not in self._components:\n",
    "                self._components.append(comp)\n",
    "    \n",
    "    def layout(self):\n",
    "        \"\"\"layout to be defined by the particular ExplainerComponent instance.\n",
    "        All element id's should append +self.name to make sure they are unique.\"\"\"\n",
    "        return None\n",
    "\n",
    "    def _register_callbacks(self, app):\n",
    "        \"\"\"register callbacks specific to this ExplainerComponent.\"\"\"\n",
    "        pass\n",
    "\n",
    "    def register_callbacks(self, app):\n",
    "        \"\"\"First register callbacks of all subcomponents, then call\n",
    "        _register_callbacks(app)\n",
    "        \"\"\"\n",
    "        self.register_components()\n",
    "        for comp in self._components:\n",
    "            comp.register_callbacks(app)\n",
    "        self._register_callbacks(app)"
   ]
  },
  {
   "cell_type": "code",
   "execution_count": null,
   "metadata": {},
   "outputs": [
    {
     "data": {
      "text/markdown": [
       "<h2 id=\"DashComponent\" class=\"doc_header\"><code>class</code> <code>DashComponent</code><a href=\"\" class=\"source_link\" style=\"float:right\">[source]</a></h2>\n",
       "\n",
       "> <code>DashComponent</code>(**`title`**=*`'Dash'`*, **`name`**=*`None`*, **`no_store`**=*`None`*, **`no_attr`**=*`None`*, **`no_config`**=*`None`*) :: [`DashComponentBase`](/dash_oop_components/core.html#DashComponentBase)\n",
       "\n",
       "DashComponent is a bundle of a dash layout and callbacks that\n",
       "can make use of DashFigureFactory objects. \n",
       "\n",
       "A DashComponent can have DashComponent subcomponents, that\n",
       "you register with register_components(). \n",
       "\n",
       "DashComponents allow you to:\n",
       "\n",
       "1. Write clean, re-usable, composable code for your dashboard\n",
       "2. Store your dashboard to config files\n",
       "3. Load your dashboard from config files\n",
       "\n",
       "Each DashComponent should have a unique .name so that dash id's don't clash.\n",
       "If no name is given, DashComponent generates a unique uuid name. This allows\n",
       "for multiple instance of the same component type in a single layout. \n",
       "But remember to add `+self.name` to all id's.\n",
       "\n",
       "Important:\n",
       "    define your callbacks in `_register_callbacks()` (note underscore!) and\n",
       "    DashComponent will register callbacks of subcomponents in addition\n",
       "    to _register_callbacks() when calling register_callbacks()"
      ],
      "text/plain": [
       "<IPython.core.display.Markdown object>"
      ]
     },
     "metadata": {},
     "output_type": "display_data"
    },
    {
     "data": {
      "text/markdown": [
       "<h4 id=\"DashComponent.make_hideable\" class=\"doc_header\"><code>DashComponent.make_hideable</code><a href=\"__main__.py#L52\" class=\"source_link\" style=\"float:right\">[source]</a></h4>\n",
       "\n",
       "> <code>DashComponent.make_hideable</code>(**`element`**, **`hide`**=*`False`*)\n",
       "\n",
       "helper function to optionally not display an element in a layout.        \n",
       "\n",
       "Example:\n",
       "    make_hideable(dbc.Col([cutoff.layout()]), hide=hide_cutoff)\n",
       "\n",
       "Args:\n",
       "    hide(bool): wrap the element inside a hidden html.div. If the element \n",
       "                is a dbc.Col or a dbc.FormGroup, wrap element.children in\n",
       "                a hidden html.Div instead. Defaults to False."
      ],
      "text/plain": [
       "<IPython.core.display.Markdown object>"
      ]
     },
     "metadata": {},
     "output_type": "display_data"
    },
    {
     "data": {
      "text/markdown": [
       "<h4 id=\"DashComponent.layout\" class=\"doc_header\"><code>DashComponent.layout</code><a href=\"__main__.py#L83\" class=\"source_link\" style=\"float:right\">[source]</a></h4>\n",
       "\n",
       "> <code>DashComponent.layout</code>()\n",
       "\n",
       "layout to be defined by the particular ExplainerComponent instance.\n",
       "All element id's should append +self.name to make sure they are unique."
      ],
      "text/plain": [
       "<IPython.core.display.Markdown object>"
      ]
     },
     "metadata": {},
     "output_type": "display_data"
    },
    {
     "data": {
      "text/markdown": [
       "<h4 id=\"DashComponent._register_callbacks\" class=\"doc_header\"><code>DashComponent._register_callbacks</code><a href=\"__main__.py#L88\" class=\"source_link\" style=\"float:right\">[source]</a></h4>\n",
       "\n",
       "> <code>DashComponent._register_callbacks</code>(**`app`**)\n",
       "\n",
       "register callbacks specific to this ExplainerComponent."
      ],
      "text/plain": [
       "<IPython.core.display.Markdown object>"
      ]
     },
     "metadata": {},
     "output_type": "display_data"
    },
    {
     "data": {
      "text/markdown": [
       "<h4 id=\"DashComponent.register_callbacks\" class=\"doc_header\"><code>DashComponent.register_callbacks</code><a href=\"__main__.py#L92\" class=\"source_link\" style=\"float:right\">[source]</a></h4>\n",
       "\n",
       "> <code>DashComponent.register_callbacks</code>(**`app`**)\n",
       "\n",
       "First register callbacks of all subcomponents, then call\n",
       "_register_callbacks(app)"
      ],
      "text/plain": [
       "<IPython.core.display.Markdown object>"
      ]
     },
     "metadata": {},
     "output_type": "display_data"
    }
   ],
   "source": [
    "show_doc(DashComponent)\n",
    "show_doc(DashComponent.make_hideable)\n",
    "show_doc(DashComponent.layout)\n",
    "show_doc(DashComponent._register_callbacks)\n",
    "show_doc(DashComponent.register_callbacks)"
   ]
  },
  {
   "cell_type": "markdown",
   "metadata": {},
   "source": [
    "### Example use of `DashComponent`:\n"
   ]
  },
  {
   "cell_type": "code",
   "execution_count": null,
   "metadata": {},
   "outputs": [],
   "source": [
    "import dash_html_components as html\n",
    "import dash_core_components as dcc"
   ]
  },
  {
   "cell_type": "markdown",
   "metadata": {},
   "source": [
    "#### Single DashComponent"
   ]
  },
  {
   "cell_type": "markdown",
   "metadata": {},
   "source": [
    "Each `DashComponent` gets assigned a random uuid identifier `self.name`. These can be added to all elements in the layout to make sure the layout of each component is unique."
   ]
  },
  {
   "cell_type": "code",
   "execution_count": null,
   "metadata": {},
   "outputs": [],
   "source": [
    "class ListComponent(DashComponent):\n",
    "    def __init__(self, list_factory, first_n=2):\n",
    "        super().__init__()\n",
    "        \n",
    "    def layout(self):\n",
    "        return html.Div([\n",
    "            dcc.Input(\n",
    "                id=\"input-first-n-\"+self.name, \n",
    "                type=\"number\", \n",
    "                value=self.first_n,\n",
    "                min=0,\n",
    "                max=self.list_factory.list_length()),\n",
    "            html.Div(id=\"output-div-\"+self.name, children=\" \".join(self.list_factory.return_list(self.first_n))),\n",
    "        ])\n",
    "    \n",
    "    def _register_callbacks(self, app):\n",
    "        @app.callback(\n",
    "            Output(\"output-div-\"+self.name, \"children\"),\n",
    "            Input(\"input-first-n-\"+self.name, \"value\")\n",
    "        )\n",
    "        def update_div(first_n):\n",
    "            if first_n is not None:\n",
    "                return \" \".join(self.list_factory.return_list(first_n))\n",
    "            raise PreventUpdate"
   ]
  },
  {
   "cell_type": "code",
   "execution_count": null,
   "metadata": {},
   "outputs": [],
   "source": [
    "lc = ListComponent(lf)"
   ]
  },
  {
   "cell_type": "code",
   "execution_count": null,
   "metadata": {},
   "outputs": [],
   "source": [
    "assert lc.list_factory.return_list() == ['this', 'is', 'a', 'dumb', 'example']\n",
    "assert isinstance(lc.layout(), html.Div)"
   ]
  },
  {
   "cell_type": "code",
   "execution_count": null,
   "metadata": {},
   "outputs": [
    {
     "name": "stdout",
     "output_type": "stream",
     "text": [
      "{'dash_component': {'name': 'ListComponent', 'module': '__main__', 'params': {'list_factory': {'dash_figure_factory': {'name': 'ListFactory', 'module': '__main__', 'params': {'list_input': ['this', 'is', 'a', 'dumb', 'example']}}}, 'first_n': 2}}}\n"
     ]
    }
   ],
   "source": [
    "print(lc.to_config())"
   ]
  },
  {
   "cell_type": "code",
   "execution_count": null,
   "metadata": {},
   "outputs": [
    {
     "name": "stdout",
     "output_type": "stream",
     "text": [
      "dash_component:\n",
      "  name: ListComponent\n",
      "  module: __main__\n",
      "  params:\n",
      "    list_factory:\n",
      "      dash_figure_factory:\n",
      "        name: ListFactory\n",
      "        module: __main__\n",
      "        params:\n",
      "          list_input:\n",
      "          - this\n",
      "          - is\n",
      "          - a\n",
      "          - dumb\n",
      "          - example\n",
      "    first_n: 2\n",
      "\n"
     ]
    }
   ],
   "source": [
    "print(lc.to_yaml())"
   ]
  },
  {
   "cell_type": "markdown",
   "metadata": {},
   "source": [
    "Store and reload (with the figure factory automatically getting reloaded as well!)"
   ]
  },
  {
   "cell_type": "code",
   "execution_count": null,
   "metadata": {},
   "outputs": [],
   "source": [
    "lc.to_yaml(\"list_component.yaml\")"
   ]
  },
  {
   "cell_type": "code",
   "execution_count": null,
   "metadata": {},
   "outputs": [],
   "source": [
    "lc2 = ListComponent.from_yaml(\"list_component.yaml\")"
   ]
  },
  {
   "cell_type": "code",
   "execution_count": null,
   "metadata": {},
   "outputs": [
    {
     "name": "stdout",
     "output_type": "stream",
     "text": [
      "dash_component:\n",
      "  name: ListComponent\n",
      "  module: __main__\n",
      "  params:\n",
      "    list_factory:\n",
      "      dash_figure_factory:\n",
      "        name: ListFactory\n",
      "        module: __main__\n",
      "        params:\n",
      "          list_input:\n",
      "          - this\n",
      "          - is\n",
      "          - a\n",
      "          - dumb\n",
      "          - example\n",
      "    first_n: 2\n",
      "\n"
     ]
    }
   ],
   "source": [
    "print(lc2.to_yaml())"
   ]
  },
  {
   "cell_type": "code",
   "execution_count": null,
   "metadata": {},
   "outputs": [],
   "source": [
    "assert lc2.list_factory.return_list() == lc.list_factory.return_list()"
   ]
  },
  {
   "cell_type": "markdown",
   "metadata": {},
   "source": [
    "#### Compose multiple DashComponent from sub components"
   ]
  },
  {
   "cell_type": "markdown",
   "metadata": {},
   "source": [
    "A `ListComposite` if a combination of two `ListComponents`, both with different initial settings for `first_n`.\n",
    "\n",
    "- the subcomponents get defined in the init with `self.list1 = ...` and `self.list2 = ...`\n",
    "- the subcomponents get included in the layout by including `self.list1.layout()` and `self.list2.layout()`\n",
    "- callbacks can be written that include elements from the ListComposite and the subcomponents\n",
    "    (in this case the reset button resets the two inputs of the subcomponents)\n",
    "- additional callbacks should be defined under `_register_callbacks(self, app)`! (**note the underscore!**)\n",
    "- callbacks of the subcomponents also get automatically registered, and included when you call\n",
    "    `register_components(app)` (**note the lack of underscore!**)"
   ]
  },
  {
   "cell_type": "code",
   "execution_count": null,
   "metadata": {},
   "outputs": [],
   "source": [
    "class ListComposite(DashComponent):\n",
    "    def __init__(self, list_factory, first_n1=2, first_n2=3):\n",
    "        super().__init__()\n",
    "        self.list1 = ListComponent(self.list_factory, first_n=first_n1)\n",
    "        self.list2 = ListComponent(self.list_factory, first_n=first_n2)\n",
    "        \n",
    "    def layout(self):\n",
    "        return html.Div([\n",
    "            html.Button(\"Reset\", id=\"reset-button-\"+self.name),\n",
    "            self.list1.layout(),\n",
    "            self.list2.layout()\n",
    "        ])\n",
    "    \n",
    "    def _register_callbacks(self, app):\n",
    "        @app.callback(\n",
    "            Output(\"input-first-n-\"+self.list1.name, \"value\"),\n",
    "            Output(\"input-first-n-\"+self.list2.name, \"value\"),\n",
    "            Input(\"reset-button-\"+self.name, \"n_clicks\")\n",
    "        )\n",
    "        def reset_inpus(n_clicks):\n",
    "            if n_clicks:\n",
    "                return self.first_n1, self.first_n2\n",
    "            raise PreventUpdate"
   ]
  },
  {
   "cell_type": "code",
   "execution_count": null,
   "metadata": {},
   "outputs": [],
   "source": [
    "list_composite = ListComposite(lf)"
   ]
  },
  {
   "cell_type": "code",
   "execution_count": null,
   "metadata": {},
   "outputs": [
    {
     "name": "stdout",
     "output_type": "stream",
     "text": [
      "dash_component:\n",
      "  name: ListComposite\n",
      "  module: __main__\n",
      "  params:\n",
      "    list_factory:\n",
      "      dash_figure_factory:\n",
      "        name: ListFactory\n",
      "        module: __main__\n",
      "        params:\n",
      "          list_input:\n",
      "          - this\n",
      "          - is\n",
      "          - a\n",
      "          - dumb\n",
      "          - example\n",
      "    first_n1: 2\n",
      "    first_n2: 3\n",
      "\n"
     ]
    }
   ],
   "source": [
    "print(list_composite.to_yaml())"
   ]
  },
  {
   "cell_type": "markdown",
   "metadata": {},
   "source": [
    "subcomponents are automatically registerd to a `_components` list when calling `register_components()`.\n",
    "\n",
    "(this gets called initially in `register_callbacks()`)"
   ]
  },
  {
   "cell_type": "code",
   "execution_count": null,
   "metadata": {},
   "outputs": [],
   "source": [
    "list_composite.register_components()\n",
    "list_composite._components\n",
    "assert len(list_composite._components) == 2"
   ]
  },
  {
   "cell_type": "code",
   "execution_count": null,
   "metadata": {},
   "outputs": [
    {
     "data": {
      "text/plain": [
       "Div([Button(children='Reset', id='reset-button-9vEKZcaMqr'), Div([Input(id='input-first-n-6dSiwTWZAB', value=2, type='number', max=5, min=0), Div(children='this is', id='output-div-6dSiwTWZAB')]), Div([Input(id='input-first-n-J9rmvcx2XU', value=3, type='number', max=5, min=0), Div(children='this is a', id='output-div-J9rmvcx2XU')])])"
      ]
     },
     "execution_count": null,
     "metadata": {},
     "output_type": "execute_result"
    }
   ],
   "source": [
    "list_composite.layout()"
   ]
  },
  {
   "cell_type": "markdown",
   "metadata": {},
   "source": [
    "When we build a dash app from this list_composite, we can check that all three callbacks (one for the composite, and one each for each subcomponent) have indeed been registered:"
   ]
  },
  {
   "cell_type": "code",
   "execution_count": null,
   "metadata": {},
   "outputs": [],
   "source": [
    "app = dash.Dash()\n",
    "app.layout = list_composite.layout()\n",
    "list_composite.register_callbacks(app)\n",
    "assert len(app.callback_map) == 3"
   ]
  },
  {
   "cell_type": "markdown",
   "metadata": {},
   "source": [
    "## DashApp"
   ]
  },
  {
   "cell_type": "code",
   "execution_count": null,
   "metadata": {},
   "outputs": [],
   "source": [
    "#export\n",
    "\n",
    "def concat_docstring(source=None):\n",
    "    \"Decorator: `__doc__` from `source` to __doc__\"\n",
    "    def _f(f):\n",
    "        if isinstance(f, types.FunctionType):\n",
    "            from_f = f\n",
    "        else:\n",
    "            from_f = f.__init__\n",
    "            \n",
    "        if isinstance(source, types.FunctionType):\n",
    "            source_f = source\n",
    "        elif source.__init__.__doc__ is not None:\n",
    "            source_f = source.__init__\n",
    "        else:\n",
    "            source_f = source\n",
    "        from_f.__doc__ = (\n",
    "            str(from_f.__doc__) + \n",
    "            \"\\n\\n\\-----------------------\\n\\n\" + \n",
    "            f\"Docstring from {source.__name__}\" +\n",
    "            \"\\n\\n\" +\n",
    "            str(source_f.__doc__))\n",
    "        return f\n",
    "    return _f"
   ]
  },
  {
   "cell_type": "code",
   "execution_count": null,
   "metadata": {},
   "outputs": [],
   "source": [
    "#export\n",
    "\n",
    "class DashApp(DashComponentBase):\n",
    "    \"\"\"Wrapper class for dash apps. Assigns layout and callbacks from \n",
    "    a DashComponent to a Dash app, and runs it.\n",
    "    \n",
    "    Can run both Dash and JupyterDash apps.\n",
    "    \n",
    "    \"\"\"\n",
    "    @concat_docstring(dash.Dash)\n",
    "    def __init__(self, dashboard_component, port=8050, mode='dash', **kwargs):\n",
    "        \"\"\"\n",
    "        \n",
    "        Args:\n",
    "            dashboard_component (DashComponent): component to be run\n",
    "            port (int): port to run the server\n",
    "            mode ({'dash', 'external', 'inline', 'jupyterlab'}): type of dash server to start\n",
    "            kwargs: all kwargs will be passed down to dash.Dash. See below the docstring of dash.Dash\n",
    "            \n",
    "        Returns:\n",
    "            DashApp: simply start .run() to start the dashboard\n",
    "        \"\"\"\n",
    "        super().__init__(child_depth=2)\n",
    "        self._stored_params['dashboard_component'] = dashboard_component.to_config()\n",
    "        self.app = self._get_dash_app()\n",
    "                \n",
    "    def _get_dash_app(self):\n",
    "        if self.mode == 'dash':\n",
    "            app = dash.Dash(**self.kwargs)\n",
    "        elif self.mode in {'inline', 'external', 'jupyterlab'}:\n",
    "            app = jupyter_dash.JupyterDash(**self.kwargs)\n",
    "            \n",
    "        app.layout = self.dashboard_component.layout()\n",
    "        self.dashboard_component.register_callbacks(app)\n",
    "        app.title = self.dashboard_component.title\n",
    "        return app\n",
    "    \n",
    "    def to_config(self):\n",
    "        return dict(dash_app=dict(\n",
    "            name=self.__class__.__name__, \n",
    "            module=self.__class__.__module__,\n",
    "            params=self._stored_params))\n",
    "    \n",
    "    def flask_server(self):\n",
    "        \"\"\"returns flask server inside self.app, for building wsgi apps\"\"\"\n",
    "        return self.app.server\n",
    "    \n",
    "    def run(self, port=None):\n",
    "        \"\"\"Run the dash app\"\"\"\n",
    "        self.app.run_server(port=port if port is not None else self.port)\n",
    "        "
   ]
  },
  {
   "cell_type": "code",
   "execution_count": null,
   "metadata": {},
   "outputs": [
    {
     "data": {
      "text/markdown": [
       "<h2 id=\"DashApp\" class=\"doc_header\"><code>class</code> <code>DashApp</code><a href=\"\" class=\"source_link\" style=\"float:right\">[source]</a></h2>\n",
       "\n",
       "> <code>DashApp</code>(**`dashboard_component`**, **`port`**=*`8050`*, **`mode`**=*`'dash'`*, **\\*\\*`kwargs`**) :: [`DashComponentBase`](/dash_oop_components/core.html#DashComponentBase)\n",
       "\n",
       "Wrapper class for dash apps. Assigns layout and callbacks from \n",
       "a DashComponent to a Dash app, and runs it.\n",
       "\n",
       "Can run both Dash and JupyterDash apps."
      ],
      "text/plain": [
       "<IPython.core.display.Markdown object>"
      ]
     },
     "metadata": {},
     "output_type": "display_data"
    },
    {
     "data": {
      "text/markdown": [
       "<h4 id=\"DashApp.__init__\" class=\"doc_header\"><code>DashApp.__init__</code><a href=\"__main__.py#L10\" class=\"source_link\" style=\"float:right\">[source]</a></h4>\n",
       "\n",
       "> <code>DashApp.__init__</code>(**`dashboard_component`**, **`port`**=*`8050`*, **`mode`**=*`'dash'`*, **\\*\\*`kwargs`**)\n",
       "\n",
       "        \n",
       "        Args:\n",
       "            dashboard_component (DashComponent): component to be run\n",
       "            port (int): port to run the server\n",
       "            mode ({'dash', 'external', 'inline', 'jupyterlab'}): type of dash server to start\n",
       "            kwargs: all kwargs will be passed down to dash.Dash. See below the docstring of dash.Dash\n",
       "            \n",
       "        Returns:\n",
       "            DashApp: simply start .run() to start the dashboard\n",
       "        \n",
       "\n",
       "\\-----------------------\n",
       "\n",
       "Docstring from Dash\n",
       "\n",
       "Dash is a framework for building analytical web applications.\n",
       "    No JavaScript required.\n",
       "\n",
       "    If a parameter can be set by an environment variable, that is listed as:\n",
       "        env: ``DASH_****``\n",
       "    Values provided here take precedence over environment variables.\n",
       "\n",
       "    :param name: The name Flask should use for your app. Even if you provide\n",
       "        your own ``server``, ``name`` will be used to help find assets.\n",
       "        Typically ``__name__`` (the magic global var, not a string) is the\n",
       "        best value to use. Default ``'__main__'``, env: ``DASH_APP_NAME``\n",
       "    :type name: string\n",
       "\n",
       "    :param server: Sets the Flask server for your app. There are three options:\n",
       "        ``True`` (default): Dash will create a new server\n",
       "        ``False``: The server will be added later via ``app.init_app(server)``\n",
       "            where ``server`` is a ``flask.Flask`` instance.\n",
       "        ``flask.Flask``: use this pre-existing Flask server.\n",
       "    :type server: boolean or flask.Flask\n",
       "\n",
       "    :param assets_folder: a path, relative to the current working directory,\n",
       "        for extra files to be used in the browser. Default ``'assets'``.\n",
       "        All .js and .css files will be loaded immediately unless excluded by\n",
       "        ``assets_ignore``, and other files such as images will be served if\n",
       "        requested.\n",
       "    :type assets_folder: string\n",
       "\n",
       "    :param assets_url_path: The local urls for assets will be:\n",
       "        ``requests_pathname_prefix + assets_url_path + '/' + asset_path``\n",
       "        where ``asset_path`` is the path to a file inside ``assets_folder``.\n",
       "        Default ``'assets'``.\n",
       "    :type asset_url_path: string\n",
       "\n",
       "    :param assets_ignore: A regex, as a string to pass to ``re.compile``, for\n",
       "        assets to omit from immediate loading. Ignored files will still be\n",
       "        served if specifically requested. You cannot use this to prevent access\n",
       "        to sensitive files.\n",
       "    :type assets_ignore: string\n",
       "\n",
       "    :param assets_external_path: an absolute URL from which to load assets.\n",
       "        Use with ``serve_locally=False``. Dash can still find js and css to\n",
       "        automatically load if you also keep local copies in your assets\n",
       "        folder that Dash can index, but external serving can improve\n",
       "        performance and reduce load on the Dash server.\n",
       "        env: ``DASH_ASSETS_EXTERNAL_PATH``\n",
       "    :type assets_external_path: string\n",
       "\n",
       "    :param include_assets_files: Default ``True``, set to ``False`` to prevent\n",
       "        immediate loading of any assets. Assets will still be served if\n",
       "        specifically requested. You cannot use this to prevent access\n",
       "        to sensitive files. env: ``DASH_INCLUDE_ASSETS_FILES``\n",
       "    :type include_assets_files: boolean\n",
       "\n",
       "    :param url_base_pathname: A local URL prefix to use app-wide.\n",
       "        Default ``'/'``. Both `requests_pathname_prefix` and\n",
       "        `routes_pathname_prefix` default to `url_base_pathname`.\n",
       "        env: ``DASH_URL_BASE_PATHNAME``\n",
       "    :type url_base_pathname: string\n",
       "\n",
       "    :param requests_pathname_prefix: A local URL prefix for file requests.\n",
       "        Defaults to `url_base_pathname`, and must end with\n",
       "        `routes_pathname_prefix`. env: ``DASH_REQUESTS_PATHNAME_PREFIX``\n",
       "    :type requests_pathname_prefix: string\n",
       "\n",
       "    :param routes_pathname_prefix: A local URL prefix for JSON requests.\n",
       "        Defaults to ``url_base_pathname``, and must start and end\n",
       "        with ``'/'``. env: ``DASH_ROUTES_PATHNAME_PREFIX``\n",
       "    :type routes_pathname_prefix: string\n",
       "\n",
       "    :param serve_locally: If ``True`` (default), assets and dependencies\n",
       "        (Dash and Component js and css) will be served from local URLs.\n",
       "        If ``False`` we will use CDN links where available.\n",
       "    :type serve_locally: boolean\n",
       "\n",
       "    :param compress: Use gzip to compress files and data served by Flask.\n",
       "        Default ``True``\n",
       "    :type compress: boolean\n",
       "\n",
       "    :param meta_tags: html <meta> tags to be added to the index page.\n",
       "        Each dict should have the attributes and values for one tag, eg:\n",
       "        ``{'name': 'description', 'content': 'My App'}``\n",
       "    :type meta_tags: list of dicts\n",
       "\n",
       "    :param index_string: Override the standard Dash index page.\n",
       "        Must contain the correct insertion markers to interpolate various\n",
       "        content into it depending on the app config and components used.\n",
       "        See https://dash.plotly.com/external-resources for details.\n",
       "    :type index_string: string\n",
       "\n",
       "    :param external_scripts: Additional JS files to load with the page.\n",
       "        Each entry can be a string (the URL) or a dict with ``src`` (the URL)\n",
       "        and optionally other ``<script>`` tag attributes such as ``integrity``\n",
       "        and ``crossorigin``.\n",
       "    :type external_scripts: list of strings or dicts\n",
       "\n",
       "    :param external_stylesheets: Additional CSS files to load with the page.\n",
       "        Each entry can be a string (the URL) or a dict with ``href`` (the URL)\n",
       "        and optionally other ``<link>`` tag attributes such as ``rel``,\n",
       "        ``integrity`` and ``crossorigin``.\n",
       "    :type external_stylesheets: list of strings or dicts\n",
       "\n",
       "    :param suppress_callback_exceptions: Default ``False``: check callbacks to\n",
       "        ensure referenced IDs exist and props are valid. Set to ``True``\n",
       "        if your layout is dynamic, to bypass these checks.\n",
       "        env: ``DASH_SUPPRESS_CALLBACK_EXCEPTIONS``\n",
       "    :type suppress_callback_exceptions: boolean\n",
       "\n",
       "    :param prevent_initial_callbacks: Default ``False``: Sets the default value\n",
       "        of ``prevent_initial_call`` for all callbacks added to the app.\n",
       "        Normally all callbacks are fired when the associated outputs are first\n",
       "        added to the page. You can disable this for individual callbacks by\n",
       "        setting ``prevent_initial_call`` in their definitions, or set it\n",
       "        ``True`` here in which case you must explicitly set it ``False`` for\n",
       "        those callbacks you wish to have an initial call. This setting has no\n",
       "        effect on triggering callbacks when their inputs change later on.\n",
       "\n",
       "    :param show_undo_redo: Default ``False``, set to ``True`` to enable undo\n",
       "        and redo buttons for stepping through the history of the app state.\n",
       "    :type show_undo_redo: boolean\n",
       "\n",
       "    :param plugins: Extend Dash functionality by passing a list of objects\n",
       "        with a ``plug`` method, taking a single argument: this app, which will\n",
       "        be called after the Flask server is attached.\n",
       "    :type plugins: list of objects\n",
       "\n",
       "    :param title: Default ``Dash``. Configures the document.title\n",
       "    (the text that appears in a browser tab).\n",
       "\n",
       "    :param update_title: Default ``Updating...``. Configures the document.title\n",
       "    (the text that appears in a browser tab) text when a callback is being run.\n",
       "    Set to None or '' if you don't want the document.title to change or if you\n",
       "    want to control the document.title through a separate component or\n",
       "    clientside callback.\n",
       "    "
      ],
      "text/plain": [
       "<IPython.core.display.Markdown object>"
      ]
     },
     "metadata": {},
     "output_type": "display_data"
    },
    {
     "data": {
      "text/markdown": [
       "<h4 id=\"DashApp.flask_server\" class=\"doc_header\"><code>DashApp.flask_server</code><a href=\"__main__.py#L44\" class=\"source_link\" style=\"float:right\">[source]</a></h4>\n",
       "\n",
       "> <code>DashApp.flask_server</code>()\n",
       "\n",
       "returns flask server inside self.app, for building wsgi apps"
      ],
      "text/plain": [
       "<IPython.core.display.Markdown object>"
      ]
     },
     "metadata": {},
     "output_type": "display_data"
    },
    {
     "data": {
      "text/markdown": [
       "<h4 id=\"DashApp.run\" class=\"doc_header\"><code>DashApp.run</code><a href=\"__main__.py#L48\" class=\"source_link\" style=\"float:right\">[source]</a></h4>\n",
       "\n",
       "> <code>DashApp.run</code>(**`port`**=*`None`*)\n",
       "\n",
       "Run the dash app"
      ],
      "text/plain": [
       "<IPython.core.display.Markdown object>"
      ]
     },
     "metadata": {},
     "output_type": "display_data"
    }
   ],
   "source": [
    "show_doc(DashApp)\n",
    "show_doc(DashApp.__init__)\n",
    "show_doc(DashApp.flask_server)\n",
    "show_doc(DashApp.run)"
   ]
  },
  {
   "cell_type": "markdown",
   "metadata": {},
   "source": [
    "### Example use of `DashApp`"
   ]
  },
  {
   "cell_type": "markdown",
   "metadata": {},
   "source": [
    "You can build and run dash app by simply passing a `DashComposite` to `DashApp` and then running it:"
   ]
  },
  {
   "cell_type": "code",
   "execution_count": null,
   "metadata": {},
   "outputs": [],
   "source": [
    "db = DashApp(list_composite)"
   ]
  },
  {
   "cell_type": "markdown",
   "metadata": {},
   "source": [
    "- You can set the port with `port=8051`\n",
    "- You can run the dashboard inline in a notebook by pasing `mode='inline'`\n",
    "    - or `mode='external'` or `mode='jupyterlab'`\n",
    "    - default is `mode='dash'`\n",
    "- Any additional parameters will be passed on the to `dash.Dash()` constructor"
   ]
  },
  {
   "cell_type": "code",
   "execution_count": null,
   "metadata": {},
   "outputs": [],
   "source": [
    "#hide \n",
    "run_app = False"
   ]
  },
  {
   "cell_type": "code",
   "execution_count": null,
   "metadata": {},
   "outputs": [],
   "source": [
    "if run_app:\n",
    "    db.run()"
   ]
  },
  {
   "cell_type": "markdown",
   "metadata": {},
   "source": [
    "You can also store and reload an entire dashboard:"
   ]
  },
  {
   "cell_type": "code",
   "execution_count": null,
   "metadata": {},
   "outputs": [
    {
     "name": "stdout",
     "output_type": "stream",
     "text": [
      "dash_app:\n",
      "  name: DashApp\n",
      "  module: __main__\n",
      "  params:\n",
      "    dashboard_component:\n",
      "      dash_component:\n",
      "        name: ListComposite\n",
      "        module: __main__\n",
      "        params:\n",
      "          list_factory:\n",
      "            dash_figure_factory:\n",
      "              name: ListFactory\n",
      "              module: __main__\n",
      "              params:\n",
      "                list_input:\n",
      "                - this\n",
      "                - is\n",
      "                - a\n",
      "                - dumb\n",
      "                - example\n",
      "          first_n1: 2\n",
      "          first_n2: 3\n",
      "    port: 8050\n",
      "    mode: dash\n",
      "    kwargs: {}\n",
      "\n"
     ]
    }
   ],
   "source": [
    "print(db.to_yaml())"
   ]
  },
  {
   "cell_type": "code",
   "execution_count": null,
   "metadata": {},
   "outputs": [],
   "source": [
    "db.to_yaml(\"dashboard.yaml\")"
   ]
  },
  {
   "cell_type": "code",
   "execution_count": null,
   "metadata": {},
   "outputs": [],
   "source": [
    "db2 = DashApp.from_yaml(\"dashboard.yaml\")"
   ]
  },
  {
   "cell_type": "code",
   "execution_count": null,
   "metadata": {},
   "outputs": [],
   "source": [
    "if run_app:\n",
    "    db2.run()"
   ]
  },
  {
   "cell_type": "code",
   "execution_count": null,
   "metadata": {},
   "outputs": [
    {
     "name": "stdout",
     "output_type": "stream",
     "text": [
      "Converted 00_core.ipynb.\n",
      "Converted 01_Example.ipynb.\n",
      "Converted index.ipynb.\n"
     ]
    }
   ],
   "source": [
    "from nbdev.export import *\n",
    "notebook2script()"
   ]
  },
  {
   "cell_type": "code",
   "execution_count": null,
   "metadata": {},
   "outputs": [],
   "source": []
  }
 ],
 "metadata": {
  "kernelspec": {
   "display_name": "Python 3",
   "language": "python",
   "name": "python3"
  }
 },
 "nbformat": 4,
 "nbformat_minor": 2
}
