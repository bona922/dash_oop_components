{
 "cells": [
  {
   "cell_type": "code",
   "execution_count": null,
   "metadata": {},
   "outputs": [],
   "source": [
    "#hide\n",
    "from dash_oop_components.core import *"
   ]
  },
  {
   "cell_type": "markdown",
   "metadata": {},
   "source": [
    "# dash_oop_components\n",
    "\n",
    "> small library for OOP dashboard building blocks "
   ]
  },
  {
   "cell_type": "markdown",
   "metadata": {},
   "source": [
    "## Install"
   ]
  },
  {
   "cell_type": "markdown",
   "metadata": {},
   "source": [
    "`pip install dash_oop_components`"
   ]
  },
  {
   "cell_type": "markdown",
   "metadata": {},
   "source": [
    "## Example of use"
   ]
  },
  {
   "cell_type": "code",
   "execution_count": null,
   "metadata": {},
   "outputs": [],
   "source": [
    "import dash_html_components as html\n",
    "import dash_core_components as dcc\n",
    "import dash_bootstrap_components as dbc\n",
    "from dash.dependencies import Input, Output, State\n",
    "from dash.exceptions import PreventUpdate\n",
    "\n",
    "import pandas as pd\n",
    "import plotly.express as px"
   ]
  },
  {
   "cell_type": "markdown",
   "metadata": {},
   "source": [
    "## CovidPlots"
   ]
  },
  {
   "cell_type": "code",
   "execution_count": null,
   "metadata": {},
   "outputs": [],
   "source": [
    "class CovidPlots(DashFigureFactory):\n",
    "    def __init__(self, datafile=\"covid.csv\", include_countries=[]):\n",
    "        super().__init__()\n",
    "        self.df = pd.read_csv(datafile)\n",
    "        if include_countries:\n",
    "            self.df = self.df[self.df.countriesAndTerritories.isin(include_countries)]\n",
    "        self.countries = self.df.countriesAndTerritories.unique().tolist()\n",
    "        self.metrics = ['cases', 'deaths']\n",
    "        \n",
    "    def plot_time_series(self, countries, metric):\n",
    "        return px.line(\n",
    "            data_frame=self.df[self.df.countriesAndTerritories.isin(countries)],\n",
    "            x='dateRep',\n",
    "            y=metric,\n",
    "            color='countriesAndTerritories',\n",
    "            labels={'countriesAndTerritories':'Countries', 'dateRep':'date'},\n",
    "            )\n",
    "    \n",
    "    def plot_pie_chart(self, countries, metric):\n",
    "        return px.pie(\n",
    "            data_frame=self.df[self.df.countriesAndTerritories.isin(countries)],\n",
    "            names='countriesAndTerritories',\n",
    "            values=metric,\n",
    "            hole=.3,\n",
    "            labels={'countriesAndTerritories':'Countries'}\n",
    "            ) "
   ]
  },
  {
   "cell_type": "markdown",
   "metadata": {},
   "source": [
    "## CovidTimeSeries"
   ]
  },
  {
   "cell_type": "code",
   "execution_count": null,
   "metadata": {},
   "outputs": [],
   "source": [
    "class CovidTimeSeries(DashComponent):\n",
    "    def __init__(self, plot_factory, \n",
    "                 hide_country_dropdown=False, countries=[], \n",
    "                 hide_metric_dropdown=False, metric='cases'):\n",
    "        super().__init__()\n",
    "        \n",
    "        if not self.countries:\n",
    "            self.countries = self.plot_factory.countries[:5]\n",
    "        \n",
    "    def layout(self):\n",
    "        return dbc.Container([\n",
    "            dbc.Row([\n",
    "                dbc.Col([\n",
    "                    html.H3(\"Covid Time Series\"),\n",
    "                    self.make_hideable(\n",
    "                        dcc.Dropdown(\n",
    "                            id='timeseries-metric-dropdown-'+self.name,\n",
    "                            options=[{'label': metric, 'value': metric} for metric in self.plot_factory.metrics],\n",
    "                            value=self.metric,\n",
    "                            clearable=False,\n",
    "                        ), hide=self.hide_metric_dropdown),\n",
    "                    self.make_hideable(\n",
    "                        dcc.Dropdown(\n",
    "                            id='timeseries-country-dropdown-'+self.name,\n",
    "                            options=[{'label': metric, 'value': metric} for metric in self.plot_factory.countries],\n",
    "                            value=self.countries,\n",
    "                            multi=True,\n",
    "                            clearable=False,\n",
    "                        ), hide=self.hide_country_dropdown),\n",
    "                    dcc.Graph(id='timeseries-figure-'+self.name)\n",
    "                ]),\n",
    "            ])\n",
    "        ])\n",
    "    \n",
    "    def _register_callbacks(self, app):\n",
    "        @app.callback(\n",
    "            Output('timeseries-figure-'+self.name, 'figure'),\n",
    "            Input('timeseries-country-dropdown-'+self.name, 'value'),\n",
    "            Input('timeseries-metric-dropdown-'+self.name, 'value')\n",
    "        )\n",
    "        def update_timeseries_plot(countries, metric):\n",
    "            if countries:\n",
    "                return self.plot_factory.plot_time_series(countries, metric)\n",
    "            raise PreventUpdate"
   ]
  },
  {
   "cell_type": "markdown",
   "metadata": {},
   "source": [
    "## CovidPieChart"
   ]
  },
  {
   "cell_type": "code",
   "execution_count": null,
   "metadata": {},
   "outputs": [],
   "source": [
    "class CovidPieChart(DashComponent):\n",
    "    def __init__(self, plot_factory, \n",
    "                 hide_country_dropdown=False, countries=[], \n",
    "                 hide_metric_dropdown=False, metric='cases'):\n",
    "        super().__init__()\n",
    "        \n",
    "        if not self.countries:\n",
    "            self.countries = self.plot_factory.countries[:5]\n",
    "        \n",
    "    def layout(self):\n",
    "        return dbc.Container([\n",
    "            dbc.Row([\n",
    "                dbc.Col([\n",
    "                    html.H3(\"Covid Pie Chart\"),\n",
    "                    self.make_hideable(\n",
    "                        dcc.Dropdown(\n",
    "                            id='piechart-metric-dropdown-'+self.name,\n",
    "                            options=[{'label': metric, 'value': metric} for metric in self.plot_factory.metrics],\n",
    "                            value=self.metric,\n",
    "                            clearable=False,\n",
    "                        ), hide=self.hide_metric_dropdown),\n",
    "                    self.make_hideable(\n",
    "                        dcc.Dropdown(\n",
    "                            id='piechart-country-dropdown-'+self.name,\n",
    "                            options=[{'label': metric, 'value': metric} for metric in self.plot_factory.countries],\n",
    "                            value=self.countries,\n",
    "                            multi=True\n",
    "                            #clearable=False,\n",
    "                        ), hide=self.hide_country_dropdown),\n",
    "                    dcc.Graph(id='piechart-figure-'+self.name)\n",
    "                ]),\n",
    "            ])\n",
    "        ])\n",
    "    \n",
    "    def _register_callbacks(self, app):\n",
    "        @app.callback(\n",
    "            Output('piechart-figure-'+self.name, 'figure'),\n",
    "            Input('piechart-country-dropdown-'+self.name, 'value'),\n",
    "            Input('piechart-metric-dropdown-'+self.name, 'value')\n",
    "        )\n",
    "        def update_timeseries_plot(countries, metric):\n",
    "            if countries:\n",
    "                return self.plot_factory.plot_pie_chart(countries, metric)\n",
    "            raise PreventUpdate"
   ]
  },
  {
   "cell_type": "markdown",
   "metadata": {},
   "source": [
    "## CovidDashboard"
   ]
  },
  {
   "cell_type": "code",
   "execution_count": null,
   "metadata": {},
   "outputs": [],
   "source": [
    "class CovidDashboard(DashComponent):\n",
    "    def __init__(self, plot_factory, \n",
    "                 hide_country_dropdowns=False, countries=[], \n",
    "                 hide_metric_dropdowns=False, metric='cases'):\n",
    "        super().__init__(title=\"Covid Dashboard\")\n",
    "        \n",
    "        if not self.countries:\n",
    "            self.countries = self.plot_factory.countries[:5]\n",
    "        \n",
    "        self.timeseries = CovidTimeSeries(\n",
    "                plot_factory, \n",
    "                hide_country_dropdown=hide_country_dropdowns,\n",
    "                hide_metric_dropdown=hide_metric_dropdowns)\n",
    "        \n",
    "        self.piechart = CovidPieChart(\n",
    "                plot_factory, \n",
    "                hide_country_dropdown=hide_country_dropdowns,\n",
    "                hide_metric_dropdown=hide_metric_dropdowns)\n",
    "        \n",
    "        self.register_components(self.timeseries, self.piechart)\n",
    "        \n",
    "    def layout(self):\n",
    "        return dbc.Container([\n",
    "            dbc.Row([\n",
    "                dbc.Col([\n",
    "                    html.H1(self.title),\n",
    "                    dcc.Dropdown(\n",
    "                        id='dashboard-metric-dropdown-'+self.name,\n",
    "                        options=[{'label': metric, 'value': metric} for metric in self.plot_factory.metrics],\n",
    "                        value=self.metric,\n",
    "                        clearable=False,\n",
    "                    ),\n",
    "                    dcc.Dropdown(\n",
    "                        id='dashboard-country-dropdown-'+self.name,\n",
    "                        options=[{'label': metric, 'value': metric} for metric in self.plot_factory.countries],\n",
    "                        value=self.countries,\n",
    "                        multi=True,\n",
    "                        clearable=False,\n",
    "                    ),\n",
    "                ], md=6),\n",
    "            ], justify=\"center\"),\n",
    "            dbc.Row([\n",
    "                dbc.Col([\n",
    "                    self.timeseries.layout(),\n",
    "                ], md=6),\n",
    "                dbc.Col([\n",
    "                    self.piechart.layout(),\n",
    "                ], md=6)\n",
    "            ])\n",
    "        ], fluid=True)\n",
    "    \n",
    "    def _register_callbacks(self, app):\n",
    "        @app.callback(\n",
    "            Output('timeseries-country-dropdown-'+self.timeseries.name, 'value'),\n",
    "            Output('piechart-country-dropdown-'+self.piechart.name, 'value'),\n",
    "            Input('dashboard-country-dropdown-'+self.name, 'value'),\n",
    "        )\n",
    "        def update_timeseries_plot(countries):\n",
    "            return countries, countries\n",
    "        \n",
    "        @app.callback(\n",
    "            Output('timeseries-metric-dropdown-'+self.timeseries.name, 'value'),\n",
    "            Output('piechart-metric-dropdown-'+self.piechart.name, 'value'),\n",
    "            Input('dashboard-metric-dropdown-'+self.name, 'value'),\n",
    "        )\n",
    "        def update_timeseries_plot(metric):\n",
    "            return metric, metric\n",
    "        "
   ]
  },
  {
   "cell_type": "markdown",
   "metadata": {},
   "source": [
    "## Start app"
   ]
  },
  {
   "cell_type": "code",
   "execution_count": null,
   "metadata": {},
   "outputs": [],
   "source": [
    "plot_factory = CovidPlots(datafile=\"covid.csv\", include_countries=[\n",
    "        'United_States_of_America', 'Italy', 'China', 'Spain',\n",
    "        'Germany', 'France', 'Iran', 'United_Kingdom', 'Switzerland',\n",
    "        'Netherlands', 'South_Korea', 'Belgium', 'Austria', \n",
    "        'Canada', 'Portugal', 'Brazil', 'Norway', 'Australia', 'Israel'])"
   ]
  },
  {
   "cell_type": "code",
   "execution_count": null,
   "metadata": {},
   "outputs": [],
   "source": [
    "db = CovidDashboard(plot_factory, hide_country_dropdowns=True, countries=['Netherlands', 'Belgium', 'Germany'])"
   ]
  },
  {
   "cell_type": "code",
   "execution_count": null,
   "metadata": {},
   "outputs": [],
   "source": [
    "app = DashApp(db, external_stylesheets=[dbc.themes.BOOTSTRAP])"
   ]
  },
  {
   "cell_type": "code",
   "execution_count": null,
   "metadata": {},
   "outputs": [
    {
     "name": "stdout",
     "output_type": "stream",
     "text": [
      "dash_app:\n",
      "  name: DashApp\n",
      "  module: dash_oop_components.core\n",
      "  params:\n",
      "    dashboard_component:\n",
      "      dash_component:\n",
      "        name: CovidDashboard\n",
      "        module: __main__\n",
      "        params:\n",
      "          plot_factory:\n",
      "            dash_figure_factory:\n",
      "              name: CovidPlots\n",
      "              module: __main__\n",
      "              params:\n",
      "                datafile: covid.csv\n",
      "                include_countries:\n",
      "                - United_States_of_America\n",
      "                - Italy\n",
      "                - China\n",
      "                - Spain\n",
      "                - Germany\n",
      "                - France\n",
      "                - Iran\n",
      "                - United_Kingdom\n",
      "                - Switzerland\n",
      "                - Netherlands\n",
      "                - South_Korea\n",
      "                - Belgium\n",
      "                - Austria\n",
      "                - Canada\n",
      "                - Portugal\n",
      "                - Brazil\n",
      "                - Norway\n",
      "                - Australia\n",
      "                - Israel\n",
      "          hide_country_dropdowns: true\n",
      "          countries:\n",
      "          - Netherlands\n",
      "          - Belgium\n",
      "          - Germany\n",
      "          hide_metric_dropdowns: false\n",
      "          metric: cases\n",
      "    port: 8050\n",
      "    mode: dash\n",
      "    kwargs:\n",
      "      external_stylesheets:\n",
      "      - https://stackpath.bootstrapcdn.com/bootstrap/4.5.0/css/bootstrap.min.css\n",
      "\n"
     ]
    }
   ],
   "source": [
    "print(app.to_yaml())"
   ]
  },
  {
   "cell_type": "code",
   "execution_count": null,
   "metadata": {},
   "outputs": [
    {
     "name": "stdout",
     "output_type": "stream",
     "text": [
      "Dash is running on http://127.0.0.1:8050/\n",
      "\n",
      "Dash is running on http://127.0.0.1:8050/\n",
      "\n",
      "Dash is running on http://127.0.0.1:8050/\n",
      "\n",
      " * Serving Flask app \"__main__\" (lazy loading)\n",
      " * Environment: production\n",
      "\u001b[31m   WARNING: This is a development server. Do not use it in a production deployment.\u001b[0m\n",
      "\u001b[2m   Use a production WSGI server instead.\u001b[0m\n",
      " * Debug mode: off\n"
     ]
    },
    {
     "name": "stderr",
     "output_type": "stream",
     "text": [
      " * Running on http://127.0.0.1:8050/ (Press CTRL+C to quit)\n",
      "127.0.0.1 - - [24/Oct/2020 22:37:01] \"\u001b[37mGET /_reload-hash HTTP/1.1\u001b[0m\" 200 -\n",
      "127.0.0.1 - - [24/Oct/2020 22:37:03] \"\u001b[37mGET / HTTP/1.1\u001b[0m\" 200 -\n",
      "127.0.0.1 - - [24/Oct/2020 22:37:04] \"\u001b[37mGET /_dash-layout HTTP/1.1\u001b[0m\" 200 -\n",
      "127.0.0.1 - - [24/Oct/2020 22:37:04] \"\u001b[37mGET /_dash-dependencies HTTP/1.1\u001b[0m\" 200 -\n",
      "127.0.0.1 - - [24/Oct/2020 22:37:04] \"\u001b[37mGET /_reload-hash HTTP/1.1\u001b[0m\" 200 -\n",
      "127.0.0.1 - - [24/Oct/2020 22:37:04] \"\u001b[37mPOST /_dash-update-component HTTP/1.1\u001b[0m\" 200 -\n",
      "127.0.0.1 - - [24/Oct/2020 22:37:04] \"\u001b[37mPOST /_dash-update-component HTTP/1.1\u001b[0m\" 200 -\n",
      "127.0.0.1 - - [24/Oct/2020 22:37:05] \"\u001b[37mPOST /_dash-update-component HTTP/1.1\u001b[0m\" 200 -\n",
      "127.0.0.1 - - [24/Oct/2020 22:37:05] \"\u001b[37mPOST /_dash-update-component HTTP/1.1\u001b[0m\" 200 -\n",
      "127.0.0.1 - - [24/Oct/2020 22:37:07] \"\u001b[37mGET /_reload-hash HTTP/1.1\u001b[0m\" 200 -\n",
      "127.0.0.1 - - [24/Oct/2020 22:37:10] \"\u001b[37mGET /_reload-hash HTTP/1.1\u001b[0m\" 200 -\n"
     ]
    }
   ],
   "source": [
    "#app.run()"
   ]
  },
  {
   "cell_type": "markdown",
   "metadata": {},
   "source": [
    "## Store App config and reload"
   ]
  },
  {
   "cell_type": "code",
   "execution_count": null,
   "metadata": {},
   "outputs": [],
   "source": [
    "app.to_yaml(\"covid_dashboard.yaml\")"
   ]
  },
  {
   "cell_type": "code",
   "execution_count": null,
   "metadata": {},
   "outputs": [],
   "source": [
    "app2 = DashApp.from_yaml(\"covid_dashboard.yaml\")"
   ]
  },
  {
   "cell_type": "code",
   "execution_count": null,
   "metadata": {},
   "outputs": [],
   "source": [
    "#app2.run()"
   ]
  },
  {
   "cell_type": "code",
   "execution_count": null,
   "metadata": {},
   "outputs": [],
   "source": []
  }
 ],
 "metadata": {
  "kernelspec": {
   "display_name": "Python 3",
   "language": "python",
   "name": "python3"
  }
 },
 "nbformat": 4,
 "nbformat_minor": 2
}
