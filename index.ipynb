{
 "cells": [
  {
   "cell_type": "code",
   "execution_count": null,
   "metadata": {},
   "outputs": [],
   "source": [
    "#hide\n",
    "from dash_oop_components.core import *"
   ]
  },
  {
   "cell_type": "markdown",
   "metadata": {},
   "source": [
    "# dash_oop_components\n",
    "\n",
    "> `dash_oop_components` is a small helper library with OOP dashboard building blocks for the plotly dash library"
   ]
  },
  {
   "cell_type": "markdown",
   "metadata": {},
   "source": [
    "## Install"
   ]
  },
  {
   "cell_type": "markdown",
   "metadata": {},
   "source": [
    "`pip install dash_oop_components`"
   ]
  },
  {
   "cell_type": "markdown",
   "metadata": {},
   "source": [
    "# Purpose"
   ]
  },
  {
   "cell_type": "markdown",
   "metadata": {},
   "source": [
    "This library allows you to write clean, modular, composable, re-usable and fully configurable dash code.\n",
    "\n",
    "It includes:\n",
    "- `DashFigureFactory`: a wrapper for your data/plotting functionality.\n",
    "- `DashComponent`: a self-contained, modular, configurable unit of code that combines a layout with callbacks.\n",
    "    - These components are composable, meaning that other `DashComponent`s can consist of multiple subcomponents.\n",
    "    - Makes use of a `DashFigureFactory` for plots or other data output\n",
    "- `DashApp`: Build a dashboard out of `DashComponent` and run it.\n",
    "\n",
    "All the components:\n",
    "- Automatically store all params to attributes and to a ._stored_params dict\n",
    "- Allow you to store its' config to a `.yaml` file, including import details, and can then  \n",
    "    be fully reloaded from a config file.\n",
    "\n",
    "This allows you to:\n",
    "- Seperate the data/plotting logic from the dashboard interactions logic, by putting all \n",
    "    the plotting functionality inside a `DashFigureFactory`. \n",
    "- Build self-contained, configurable, re-usable `DashComponents`\n",
    "- Compose dashboards that consists of multiple `DashComponents` that each may \n",
    "    consists of multiple `DashComponents`, etc.\n",
    "- Store all the configuration needed to rebuild and run a particular dashboard to \n",
    "    a single configuration `.yaml` file\n",
    "- Parametrize your dashboard so that you (or others) can make change to the dashboard\n",
    "    without having to edit the code."
   ]
  },
  {
   "cell_type": "markdown",
   "metadata": {},
   "source": [
    "# Example:"
   ]
  },
  {
   "cell_type": "code",
   "execution_count": null,
   "metadata": {},
   "outputs": [],
   "source": [
    "#!pip install pandas plotly-express"
   ]
  },
  {
   "cell_type": "code",
   "execution_count": null,
   "metadata": {},
   "outputs": [],
   "source": [
    "import dash_html_components as html\n",
    "import dash_core_components as dcc\n",
    "import dash_bootstrap_components as dbc\n",
    "\n",
    "from dash.dependencies import Input, Output, State\n",
    "from dash.exceptions import PreventUpdate\n",
    "\n",
    "import pandas as pd\n",
    "import plotly.express as px"
   ]
  },
  {
   "cell_type": "markdown",
   "metadata": {},
   "source": [
    "## CovidPlots: a DashFigureFactory"
   ]
  },
  {
   "cell_type": "markdown",
   "metadata": {},
   "source": [
    "A basic `DashFigureFactory` that loads a covid dataset, and provides a single plotting functionality: `plot_time_series()`."
   ]
  },
  {
   "cell_type": "code",
   "execution_count": null,
   "metadata": {},
   "outputs": [],
   "source": [
    "class CovidPlots(DashFigureFactory):\n",
    "    def __init__(self, datafile=\"covid.csv\"):\n",
    "        super().__init__()\n",
    "        self.df = pd.read_csv(datafile)\n",
    "        \n",
    "        self.countries = self.df.countriesAndTerritories.unique().tolist()\n",
    "        self.metrics = ['cases', 'deaths']\n",
    "        \n",
    "    def plot_time_series(self, countries, metric):\n",
    "        return px.line(\n",
    "            data_frame=self.df[self.df.countriesAndTerritories.isin(countries)],\n",
    "            x='dateRep',\n",
    "            y=metric,\n",
    "            color='countriesAndTerritories',\n",
    "            labels={'countriesAndTerritories':'Countries', 'dateRep':'date'},\n",
    "            )"
   ]
  },
  {
   "cell_type": "markdown",
   "metadata": {},
   "source": [
    "## CovidTimeSeries: a DashComponent"
   ]
  },
  {
   "cell_type": "markdown",
   "metadata": {},
   "source": [
    "A `DashComponent` that takes a plot_factory and build a layout with two dropdowns and a graph:"
   ]
  },
  {
   "cell_type": "code",
   "execution_count": null,
   "metadata": {},
   "outputs": [],
   "source": [
    "class CovidTimeSeries(DashComponent):\n",
    "    def __init__(self, plot_factory, \n",
    "                 hide_country_dropdown=False, countries=None, \n",
    "                 hide_metric_dropdown=False, metric='cases'):\n",
    "        super().__init__()\n",
    "        \n",
    "        if not self.countries:\n",
    "            self.countries = self.plot_factory.countries\n",
    "        \n",
    "    def layout(self):\n",
    "        return dbc.Container([\n",
    "            dbc.Row([\n",
    "                dbc.Col([\n",
    "                    html.H3(\"Covid Time Series\"),\n",
    "                    self.make_hideable(\n",
    "                        dcc.Dropdown(\n",
    "                            id='timeseries-metric-dropdown-'+self.name,\n",
    "                            options=[{'label': metric, 'value': metric} for metric in ['cases', 'deaths']],\n",
    "                            value=self.metric,\n",
    "                        ), hide=self.hide_metric_dropdown),\n",
    "                    self.make_hideable(\n",
    "                        dcc.Dropdown(\n",
    "                            id='timeseries-country-dropdown-'+self.name,\n",
    "                            options=[{'label': country, 'value': country} for country in self.plot_factory.countries],\n",
    "                            value=self.countries,\n",
    "                            multi=True,\n",
    "                        ), hide=self.hide_country_dropdown),\n",
    "                    dcc.Graph(id='timeseries-figure-'+self.name)\n",
    "                ]),\n",
    "            ])\n",
    "        ])\n",
    "    \n",
    "    def _register_callbacks(self, app):\n",
    "        @app.callback(\n",
    "            Output('timeseries-figure-'+self.name, 'figure'),\n",
    "            Input('timeseries-country-dropdown-'+self.name, 'value'),\n",
    "            Input('timeseries-metric-dropdown-'+self.name, 'value')\n",
    "        )\n",
    "        def update_timeseries_plot(countries, metric):\n",
    "            if countries and metric:\n",
    "                return self.plot_factory.plot_time_series(countries, metric)\n",
    "            raise PreventUpdate"
   ]
  },
  {
   "cell_type": "markdown",
   "metadata": {},
   "source": [
    "## DuoPlots: a composition of two subcomponents\n",
    "A `DashComponent` that combines two `CovidTimeSeries` into a single layout. \n",
    "Both subcomponents are assigned different initial values."
   ]
  },
  {
   "cell_type": "code",
   "execution_count": null,
   "metadata": {},
   "outputs": [],
   "source": [
    "class DuoPlots(DashComponent):\n",
    "    def __init__(self, plot_factory):\n",
    "        super().__init__()\n",
    "        self.plot_left = CovidTimeSeries(plot_factory, \n",
    "                                         countries=['China', 'Vietnam', 'Taiwan'], \n",
    "                                         metric='cases')\n",
    "        self.plot_right = CovidTimeSeries(plot_factory, \n",
    "                                          countries=['Italy', 'Germany', 'Sweden'], \n",
    "                                          metric='deaths')\n",
    "        \n",
    "        self.register_components(self.plot_left, self.plot_right)\n",
    "        \n",
    "    def layout(self):\n",
    "        return dbc.Container([\n",
    "            dbc.Row([\n",
    "                dbc.Col([\n",
    "                    self.plot_left.layout()\n",
    "                ]),\n",
    "                dbc.Col([\n",
    "                    self.plot_right.layout()\n",
    "                ])\n",
    "            ])\n",
    "        ], fluid=True)"
   ]
  },
  {
   "cell_type": "markdown",
   "metadata": {},
   "source": [
    "## Start dashboard:"
   ]
  },
  {
   "cell_type": "markdown",
   "metadata": {},
   "source": [
    "Load the plot_factory and show its config:"
   ]
  },
  {
   "cell_type": "code",
   "execution_count": null,
   "metadata": {},
   "outputs": [
    {
     "name": "stdout",
     "output_type": "stream",
     "text": [
      "dash_figure_factory:\n",
      "  name: CovidPlots\n",
      "  module: __main__\n",
      "  params:\n",
      "    datafile: covid.csv\n",
      "\n"
     ]
    }
   ],
   "source": [
    "plot_factory = CovidPlots(datafile=\"covid.csv\")\n",
    "print(plot_factory.to_yaml())"
   ]
  },
  {
   "cell_type": "markdown",
   "metadata": {},
   "source": [
    "Load the `CovidDashboard`, by passing the `plot_factory` and accepting the default parameters for `europe_countries` and `asia_countries`:"
   ]
  },
  {
   "cell_type": "code",
   "execution_count": null,
   "metadata": {},
   "outputs": [
    {
     "name": "stdout",
     "output_type": "stream",
     "text": [
      "dash_component:\n",
      "  name: DuoPlots\n",
      "  module: __main__\n",
      "  params:\n",
      "    plot_factory:\n",
      "      dash_figure_factory:\n",
      "        name: CovidPlots\n",
      "        module: __main__\n",
      "        params:\n",
      "          datafile: covid.csv\n",
      "\n"
     ]
    }
   ],
   "source": [
    "dashboard_component = DuoPlots(plot_factory)\n",
    "print(dashboard_component.to_yaml())"
   ]
  },
  {
   "cell_type": "markdown",
   "metadata": {},
   "source": [
    "Pass the `dashboard_component` to the `DashApp`, and add the bootstrap stylesheet that is needed to correctly display all the `dbc.Row`s and `dbc.Col`s:"
   ]
  },
  {
   "cell_type": "code",
   "execution_count": null,
   "metadata": {},
   "outputs": [
    {
     "name": "stdout",
     "output_type": "stream",
     "text": [
      "dash_app:\n",
      "  name: DashApp\n",
      "  module: dash_oop_components.core\n",
      "  params:\n",
      "    dashboard_component:\n",
      "      dash_component:\n",
      "        name: DuoPlots\n",
      "        module: __main__\n",
      "        params:\n",
      "          plot_factory:\n",
      "            dash_figure_factory:\n",
      "              name: CovidPlots\n",
      "              module: __main__\n",
      "              params:\n",
      "                datafile: covid.csv\n",
      "    port: 8050\n",
      "    mode: dash\n",
      "    kwargs:\n",
      "      external_stylesheets:\n",
      "      - https://stackpath.bootstrapcdn.com/bootstrap/4.5.0/css/bootstrap.min.css\n",
      "\n"
     ]
    }
   ],
   "source": [
    "app = DashApp(dashboard_component, external_stylesheets=[dbc.themes.BOOTSTRAP])\n",
    "print(app.to_yaml())"
   ]
  },
  {
   "cell_type": "markdown",
   "metadata": {},
   "source": [
    "Uncomment o run the dashboard:"
   ]
  },
  {
   "cell_type": "code",
   "execution_count": null,
   "metadata": {},
   "outputs": [],
   "source": [
    "#app.run()"
   ]
  },
  {
   "cell_type": "markdown",
   "metadata": {},
   "source": [
    "## reload dashboard from config:"
   ]
  },
  {
   "cell_type": "code",
   "execution_count": null,
   "metadata": {},
   "outputs": [],
   "source": [
    "app.to_yaml(\"covid_dashboard.yaml\")"
   ]
  },
  {
   "cell_type": "code",
   "execution_count": null,
   "metadata": {},
   "outputs": [],
   "source": [
    "app2 = DashApp.from_yaml(\"covid_dashboard.yaml\")"
   ]
  },
  {
   "cell_type": "markdown",
   "metadata": {},
   "source": [
    "We can check that the configuration of this new `app2` is indeed the same as `app`:"
   ]
  },
  {
   "cell_type": "code",
   "execution_count": null,
   "metadata": {},
   "outputs": [
    {
     "name": "stdout",
     "output_type": "stream",
     "text": [
      "dash_app:\n",
      "  name: DashApp\n",
      "  module: dash_oop_components.core\n",
      "  params:\n",
      "    dashboard_component:\n",
      "      dash_component:\n",
      "        name: DuoPlots\n",
      "        module: __main__\n",
      "        params:\n",
      "          plot_factory:\n",
      "            dash_figure_factory:\n",
      "              name: CovidPlots\n",
      "              module: __main__\n",
      "              params:\n",
      "                datafile: covid.csv\n",
      "    port: 8050\n",
      "    mode: dash\n",
      "    kwargs:\n",
      "      external_stylesheets:\n",
      "      - https://stackpath.bootstrapcdn.com/bootstrap/4.5.0/css/bootstrap.min.css\n",
      "\n"
     ]
    }
   ],
   "source": [
    "print(app2.to_yaml())"
   ]
  },
  {
   "cell_type": "markdown",
   "metadata": {},
   "source": [
    "And if we run it it still works!\n",
    "\n",
    "(uncomment to run)"
   ]
  },
  {
   "cell_type": "code",
   "execution_count": null,
   "metadata": {},
   "outputs": [],
   "source": [
    "#app2.run()"
   ]
  },
  {
   "cell_type": "code",
   "execution_count": null,
   "metadata": {},
   "outputs": [],
   "source": []
  }
 ],
 "metadata": {
  "kernelspec": {
   "display_name": "Python 3",
   "language": "python",
   "name": "python3"
  }
 },
 "nbformat": 4,
 "nbformat_minor": 2
}
