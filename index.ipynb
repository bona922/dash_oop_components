{
 "cells": [
  {
   "cell_type": "code",
   "execution_count": null,
   "metadata": {},
   "outputs": [],
   "source": [
    "#hide\n",
    "from dash_oop_components.core import *"
   ]
  },
  {
   "cell_type": "markdown",
   "metadata": {},
   "source": [
    "# dash_oop_components\n",
    "\n",
    "> `dash_oop_components` is a small helper library with OOP dashboard building blocks for the plotly dash library"
   ]
  },
  {
   "cell_type": "markdown",
   "metadata": {},
   "source": [
    "## Install"
   ]
  },
  {
   "cell_type": "markdown",
   "metadata": {},
   "source": [
    "`pip install dash_oop_components`"
   ]
  },
  {
   "cell_type": "markdown",
   "metadata": {},
   "source": [
    "## Purpose"
   ]
  },
  {
   "cell_type": "markdown",
   "metadata": {},
   "source": [
    "Plotly's [dash](dash.plotly.com) is an awesome library that allows you to build rich interactive data driven web apps with pure python code. However the default style of dash apps is quite declarative, which for large projects can lead to code that become unwieldy and hard to maintain.\n",
    "\n",
    "This library provides three object-oriented wrappers for organizing your dash code that allow you to write clean, modular, composable, re-usable and fully configurable dash code.\n",
    "\n",
    "It includes:\n",
    "- `DashFigureFactory`: a wrapper for your data/plotting functionality.\n",
    "- `DashComponent`: a self-contained, modular, configurable unit that combines a dash layout with dash callbacks.\n",
    "    - Makes use of a `DashFigureFactory` for plots or other data output\n",
    "    - `DashComponents` are composable, meaning that you can nest them into new composite components.\n",
    "- `DashApp`: Build a dashboard out of `DashComponent` and run it.\n",
    "\n",
    "All three wrappers:\n",
    "- Automatically store all params to attributes and to a ._stored_params dict\n",
    "- Allow you to store its' config to a `.yaml` file, including import details, and can then  \n",
    "    be fully reloaded from a config file.\n",
    "\n",
    "This allows you to:\n",
    "- Seperate the data/plotting logic from the dashboard interactions logic, by putting all \n",
    "    the plotting functionality inside a `DashFigureFactory` and all the dashboard layout and callback logic into `DashComponents`.\n",
    "- Build self-contained, configurable, re-usable `DashComponents`\n",
    "- Compose dashboards that consists of multiple `DashComponents` that each may \n",
    "    consists of multiple nested `DashComponents`, etc.\n",
    "- Store all the configuration needed to rebuild and run a particular dashboard to \n",
    "    a single configuration `.yaml` file\n",
    "- Parametrize your dashboard so that you (or others) can make change to the dashboard\n",
    "    without having to edit the code."
   ]
  },
  {
   "cell_type": "markdown",
   "metadata": {},
   "source": [
    "## To import:"
   ]
  },
  {
   "cell_type": "code",
   "execution_count": null,
   "metadata": {},
   "outputs": [],
   "source": [
    "from dash_oop_components import DashFigureFactory, DashComponent, DashApp"
   ]
  },
  {
   "cell_type": "markdown",
   "metadata": {},
   "source": [
    "## Example:\n",
    "\n",
    "A similar dashboard has been deployed to [https://dash-oop-demo.herokuapp.com/](https://dash-oop-demo.herokuapp.com/)"
   ]
  },
  {
   "cell_type": "code",
   "execution_count": null,
   "metadata": {},
   "outputs": [
    {
     "name": "stdout",
     "output_type": "stream",
     "text": [
      "Requirement already satisfied: pandas in /Users/oege/projects/venv/lib/python3.8/site-packages (1.1.3)\n",
      "Requirement already satisfied: plotly-express in /Users/oege/projects/venv/lib/python3.8/site-packages (0.4.1)\n",
      "Requirement already satisfied: python-dateutil>=2.7.3 in /Users/oege/projects/venv/lib/python3.8/site-packages (from pandas) (2.8.1)\n",
      "Requirement already satisfied: numpy>=1.15.4 in /Users/oege/projects/venv/lib/python3.8/site-packages (from pandas) (1.19.2)\n",
      "Requirement already satisfied: pytz>=2017.2 in /Users/oege/projects/venv/lib/python3.8/site-packages (from pandas) (2020.1)\n",
      "Requirement already satisfied: patsy>=0.5 in /Users/oege/projects/venv/lib/python3.8/site-packages (from plotly-express) (0.5.1)\n",
      "Requirement already satisfied: statsmodels>=0.9.0 in /Users/oege/projects/venv/lib/python3.8/site-packages (from plotly-express) (0.12.0)\n",
      "Requirement already satisfied: plotly>=4.1.0 in /Users/oege/projects/venv/lib/python3.8/site-packages (from plotly-express) (4.12.0)\n",
      "Requirement already satisfied: scipy>=0.18 in /Users/oege/projects/venv/lib/python3.8/site-packages (from plotly-express) (1.5.3)\n",
      "Requirement already satisfied: six>=1.5 in /Users/oege/projects/venv/lib/python3.8/site-packages (from python-dateutil>=2.7.3->pandas) (1.15.0)\n",
      "Requirement already satisfied: retrying>=1.3.3 in /Users/oege/projects/venv/lib/python3.8/site-packages (from plotly>=4.1.0->plotly-express) (1.3.3)\n",
      "\u001b[33mWARNING: You are using pip version 20.1.1; however, version 20.2.4 is available.\n",
      "You should consider upgrading via the '/Users/oege/projects/venv/bin/python -m pip install --upgrade pip' command.\u001b[0m\n"
     ]
    }
   ],
   "source": [
    "#hide\n",
    "\n",
    "!pip install pandas plotly-express"
   ]
  },
  {
   "cell_type": "code",
   "execution_count": null,
   "metadata": {},
   "outputs": [],
   "source": [
    "#hide\n",
    "\n",
    "import dash_html_components as html\n",
    "import dash_core_components as dcc\n",
    "import dash_bootstrap_components as dbc\n",
    "\n",
    "from dash.dependencies import Input, Output, State\n",
    "from dash.exceptions import PreventUpdate\n",
    "\n",
    "import pandas as pd\n",
    "import plotly.express as px"
   ]
  },
  {
   "cell_type": "markdown",
   "metadata": {},
   "source": [
    "### CovidPlots: a DashFigureFactory"
   ]
  },
  {
   "cell_type": "markdown",
   "metadata": {},
   "source": [
    "First we define a basic `DashFigureFactory` that loads a covid dataset, and provides a single plotting functionality, namely `plot_time_series(countries, metric)`. Make sure to call `super().__init__()` in order to params to attributes (that's how the datafile parameters gets automatically assigned to self.datafile for example), and store them to a `._stored_params` dict so that they can later be exported to a config file."
   ]
  },
  {
   "cell_type": "code",
   "execution_count": null,
   "metadata": {},
   "outputs": [
    {
     "name": "stdout",
     "output_type": "stream",
     "text": [
      "dash_figure_factory:\n",
      "  name: CovidPlots\n",
      "  module: __main__\n",
      "  params:\n",
      "    datafile: covid.csv\n",
      "\n"
     ]
    }
   ],
   "source": [
    "class CovidPlots(DashFigureFactory):\n",
    "    def __init__(self, datafile=\"covid.csv\"):\n",
    "        super().__init__()\n",
    "        self.df = pd.read_csv(self.datafile)\n",
    "        \n",
    "        self.countries = self.df.countriesAndTerritories.unique().tolist()\n",
    "        self.metrics = ['cases', 'deaths']\n",
    "        \n",
    "    def plot_time_series(self, countries, metric):\n",
    "        return px.line(\n",
    "            data_frame=self.df[self.df.countriesAndTerritories.isin(countries)],\n",
    "            x='dateRep',\n",
    "            y=metric,\n",
    "            color='countriesAndTerritories',\n",
    "            labels={'countriesAndTerritories':'Countries', 'dateRep':'date'},\n",
    "            )\n",
    "    \n",
    "figure_factory = CovidPlots(\"covid.csv\")\n",
    "print(figure_factory.to_yaml())"
   ]
  },
  {
   "cell_type": "markdown",
   "metadata": {},
   "source": [
    "### CovidTimeSeries: a DashComponent"
   ]
  },
  {
   "cell_type": "markdown",
   "metadata": {},
   "source": [
    "Then we define a `DashComponent` that takes a plot_factory and build a layout with two dropdowns and a graph.\n",
    "\n",
    "- By calling `super().__init__()` all parameters are automatically stored to attributes (so that we can access \n",
    "    e.g. `self.hide_country_dropdown`), and to a `._stored_params` dict.\n",
    "- This layout makes use of the `make_hideable()` staticmethod, to conditionally \n",
    "    wrap certain layout elements in a hidden div.\n",
    "- Note that the callbacks are registered using `_register_callbacks(self, app)` (**note the underscore!)\n",
    "- Note that the callback uses the plot_factory for the plotting logic."
   ]
  },
  {
   "cell_type": "code",
   "execution_count": null,
   "metadata": {},
   "outputs": [],
   "source": [
    "class CovidTimeSeries(DashComponent):\n",
    "    def __init__(self, plot_factory, \n",
    "                 hide_country_dropdown=False, countries=None, \n",
    "                 hide_metric_dropdown=False, metric='cases'):\n",
    "        super().__init__()\n",
    "        \n",
    "        if not self.countries:\n",
    "            self.countries = self.plot_factory.countries\n",
    "        \n",
    "    def layout(self):\n",
    "        return dbc.Container([\n",
    "            dbc.Row([\n",
    "                dbc.Col([\n",
    "                    html.H3(\"Covid Time Series\"),\n",
    "                    self.make_hideable(\n",
    "                        dcc.Dropdown(\n",
    "                            id='timeseries-metric-dropdown-'+self.name,\n",
    "                            options=[{'label': metric, 'value': metric} for metric in ['cases', 'deaths']],\n",
    "                            value=self.metric,\n",
    "                        ), hide=self.hide_metric_dropdown),\n",
    "                    self.make_hideable(\n",
    "                        dcc.Dropdown(\n",
    "                            id='timeseries-country-dropdown-'+self.name,\n",
    "                            options=[{'label': country, 'value': country} for country in self.plot_factory.countries],\n",
    "                            value=self.countries,\n",
    "                            multi=True,\n",
    "                        ), hide=self.hide_country_dropdown),\n",
    "                    dcc.Graph(id='timeseries-figure-'+self.name)\n",
    "                ]),\n",
    "            ])\n",
    "        ])\n",
    "    \n",
    "    def _register_callbacks(self, app):\n",
    "        @app.callback(\n",
    "            Output('timeseries-figure-'+self.name, 'figure'),\n",
    "            Input('timeseries-country-dropdown-'+self.name, 'value'),\n",
    "            Input('timeseries-metric-dropdown-'+self.name, 'value')\n",
    "        )\n",
    "        def update_timeseries_plot(countries, metric):\n",
    "            if countries and metric:\n",
    "                return self.plot_factory.plot_time_series(countries, metric)\n",
    "            raise PreventUpdate"
   ]
  },
  {
   "cell_type": "markdown",
   "metadata": {},
   "source": [
    "### DuoPlots: a composition of two subcomponents\n",
    "A composite `DashComponent` that combines two `CovidTimeSeries` into a single layout. \n",
    "Both subcomponents are passed the same plot_factory but assigned different initial values.\n",
    "\n",
    "- The layouts of subcomponents can be included in the composite layout with \n",
    "    `self.plot_left.layout()` and `self.plot_right.layout()`\n",
    "- Composite callbacks should again be defined under `self._register_callbacks(app)` (**note the underscore!**)\n",
    "    - calling `.register_callbacks(app)` first registers all callbacks of subcomponents, \n",
    "        and then calls `_register_callbacks(app)`.\n",
    "    - composite callbacks can access elements of subcomponents by using the `subcomponent.name` fields in the ids."
   ]
  },
  {
   "cell_type": "code",
   "execution_count": null,
   "metadata": {},
   "outputs": [
    {
     "name": "stdout",
     "output_type": "stream",
     "text": [
      "dash_component:\n",
      "  name: DuoPlots\n",
      "  module: __main__\n",
      "  params:\n",
      "    plot_factory:\n",
      "      dash_figure_factory:\n",
      "        name: CovidPlots\n",
      "        module: __main__\n",
      "        params:\n",
      "          datafile: covid.csv\n",
      "\n"
     ]
    }
   ],
   "source": [
    "class DuoPlots(DashComponent):\n",
    "    def __init__(self, plot_factory):\n",
    "        super().__init__()\n",
    "        self.plot_left = CovidTimeSeries(plot_factory, \n",
    "                                         countries=['China', 'Vietnam', 'Taiwan'], \n",
    "                                         metric='cases')\n",
    "        self.plot_right = CovidTimeSeries(plot_factory, \n",
    "                                          countries=['Italy', 'Germany', 'Sweden'], \n",
    "                                          metric='deaths')\n",
    "        \n",
    "    def layout(self):\n",
    "        return dbc.Container([\n",
    "            dbc.Row([\n",
    "                dbc.Col([\n",
    "                    self.plot_left.layout()\n",
    "                ]),\n",
    "                dbc.Col([\n",
    "                    self.plot_right.layout()\n",
    "                ])\n",
    "            ])\n",
    "        ], fluid=True)\n",
    "    \n",
    "dashboard = DuoPlots(figure_factory)\n",
    "print(dashboard.to_yaml())"
   ]
  },
  {
   "cell_type": "code",
   "execution_count": null,
   "metadata": {},
   "outputs": [
    {
     "ename": "KeyboardInterrupt",
     "evalue": "",
     "output_type": "error",
     "traceback": [
      "\u001b[0;31m---------------------------------------------------------------------------\u001b[0m",
      "\u001b[0;31mKeyboardInterrupt\u001b[0m                         Traceback (most recent call last)",
      "\u001b[0;32m<ipython-input-66-202d56a6ee92>\u001b[0m in \u001b[0;36m<module>\u001b[0;34m\u001b[0m\n\u001b[0;32m----> 1\u001b[0;31m \u001b[0mdashboard\u001b[0m\u001b[0;34m.\u001b[0m\u001b[0mregister_components\u001b[0m\u001b[0;34m(\u001b[0m\u001b[0;34m)\u001b[0m\u001b[0;34m\u001b[0m\u001b[0;34m\u001b[0m\u001b[0m\n\u001b[0m",
      "\u001b[0;32m~/projects/dash_oop_components/dash_oop_components/core.py\u001b[0m in \u001b[0;36mregister_components\u001b[0;34m(self)\u001b[0m\n\u001b[1;32m    275\u001b[0m         \u001b[0mSearches\u001b[0m \u001b[0mself\u001b[0m\u001b[0;34m.\u001b[0m\u001b[0m__dict__\u001b[0m\u001b[0;34m,\u001b[0m \u001b[0mfinds\u001b[0m \u001b[0mall\u001b[0m \u001b[0mDashComponents\u001b[0m \u001b[0;32mand\u001b[0m \u001b[0madds\u001b[0m \u001b[0mthem\u001b[0m \u001b[0mto\u001b[0m \u001b[0mself\u001b[0m\u001b[0;34m.\u001b[0m\u001b[0m_components\u001b[0m\u001b[0;34m\u001b[0m\u001b[0;34m\u001b[0m\u001b[0m\n\u001b[1;32m    276\u001b[0m         \"\"\"\n\u001b[0;32m--> 277\u001b[0;31m         \u001b[0;32mif\u001b[0m \u001b[0;32mnot\u001b[0m \u001b[0mhasattr\u001b[0m\u001b[0;34m(\u001b[0m\u001b[0mself\u001b[0m\u001b[0;34m,\u001b[0m \u001b[0;34m'_components'\u001b[0m\u001b[0;34m)\u001b[0m\u001b[0;34m:\u001b[0m\u001b[0;34m\u001b[0m\u001b[0;34m\u001b[0m\u001b[0m\n\u001b[0m\u001b[1;32m    278\u001b[0m             \u001b[0mself\u001b[0m\u001b[0;34m.\u001b[0m\u001b[0m_components\u001b[0m \u001b[0;34m=\u001b[0m \u001b[0;34m[\u001b[0m\u001b[0;34m]\u001b[0m\u001b[0;34m\u001b[0m\u001b[0;34m\u001b[0m\u001b[0m\n\u001b[1;32m    279\u001b[0m         \u001b[0;32mfor\u001b[0m \u001b[0mcomp\u001b[0m \u001b[0;32min\u001b[0m \u001b[0mself\u001b[0m\u001b[0;34m.\u001b[0m\u001b[0m__dict__\u001b[0m\u001b[0;34m.\u001b[0m\u001b[0mvalues\u001b[0m\u001b[0;34m(\u001b[0m\u001b[0;34m)\u001b[0m\u001b[0;34m:\u001b[0m\u001b[0;34m\u001b[0m\u001b[0;34m\u001b[0m\u001b[0m\n",
      "\u001b[0;31mKeyboardInterrupt\u001b[0m: "
     ]
    }
   ],
   "source": [
    "dashboard.register_components()"
   ]
  },
  {
   "cell_type": "markdown",
   "metadata": {},
   "source": [
    "### Start dashboard:"
   ]
  },
  {
   "cell_type": "markdown",
   "metadata": {},
   "source": [
    "Pass the `dashboard` to the `DashApp` to create a dash flask application.\n",
    "\n",
    "- You can pass `mode='inline'`, `'external'` or `'jupyterlab'` when you are working in a notebook in order to keep\n",
    "    the notebook interactive while the app is running\n",
    "- You can pass a port and any other dash parameters in the kwargs (e.g. here we include the bootstrap css from dbc)"
   ]
  },
  {
   "cell_type": "code",
   "execution_count": null,
   "metadata": {},
   "outputs": [
    {
     "ename": "KeyboardInterrupt",
     "evalue": "",
     "output_type": "error",
     "traceback": [
      "\u001b[0;31m---------------------------------------------------------------------------\u001b[0m",
      "\u001b[0;31mKeyboardInterrupt\u001b[0m                         Traceback (most recent call last)",
      "\u001b[0;32m<ipython-input-62-70a0fd5f486e>\u001b[0m in \u001b[0;36m<module>\u001b[0;34m\u001b[0m\n\u001b[0;32m----> 1\u001b[0;31m \u001b[0mapp\u001b[0m \u001b[0;34m=\u001b[0m \u001b[0mDashApp\u001b[0m\u001b[0;34m(\u001b[0m\u001b[0mdashboard\u001b[0m\u001b[0;34m,\u001b[0m \u001b[0mexternal_stylesheets\u001b[0m\u001b[0;34m=\u001b[0m\u001b[0;34m[\u001b[0m\u001b[0mdbc\u001b[0m\u001b[0;34m.\u001b[0m\u001b[0mthemes\u001b[0m\u001b[0;34m.\u001b[0m\u001b[0mBOOTSTRAP\u001b[0m\u001b[0;34m]\u001b[0m\u001b[0;34m)\u001b[0m\u001b[0;34m\u001b[0m\u001b[0;34m\u001b[0m\u001b[0m\n\u001b[0m\u001b[1;32m      2\u001b[0m \u001b[0mprint\u001b[0m\u001b[0;34m(\u001b[0m\u001b[0mapp\u001b[0m\u001b[0;34m.\u001b[0m\u001b[0mto_yaml\u001b[0m\u001b[0;34m(\u001b[0m\u001b[0;34m)\u001b[0m\u001b[0;34m)\u001b[0m\u001b[0;34m\u001b[0m\u001b[0;34m\u001b[0m\u001b[0m\n",
      "\u001b[0;32m~/projects/dash_oop_components/dash_oop_components/core.py\u001b[0m in \u001b[0;36m__init__\u001b[0;34m(self, dashboard_component, port, mode, **kwargs)\u001b[0m\n\u001b[1;32m    344\u001b[0m \u001b[0;34m\u001b[0m\u001b[0m\n\u001b[1;32m    345\u001b[0m         \u001b[0mReturns\u001b[0m\u001b[0;34m:\u001b[0m\u001b[0;34m\u001b[0m\u001b[0;34m\u001b[0m\u001b[0m\n\u001b[0;32m--> 346\u001b[0;31m             \u001b[0mDashApp\u001b[0m\u001b[0;34m:\u001b[0m \u001b[0msimply\u001b[0m \u001b[0mstart\u001b[0m \u001b[0;34m.\u001b[0m\u001b[0mrun\u001b[0m\u001b[0;34m(\u001b[0m\u001b[0;34m)\u001b[0m \u001b[0mto\u001b[0m \u001b[0mstart\u001b[0m \u001b[0mthe\u001b[0m \u001b[0mdashboard\u001b[0m\u001b[0;34m\u001b[0m\u001b[0;34m\u001b[0m\u001b[0m\n\u001b[0m\u001b[1;32m    347\u001b[0m         \"\"\"\n\u001b[1;32m    348\u001b[0m         \u001b[0msuper\u001b[0m\u001b[0;34m(\u001b[0m\u001b[0;34m)\u001b[0m\u001b[0;34m.\u001b[0m\u001b[0m__init__\u001b[0m\u001b[0;34m(\u001b[0m\u001b[0mchild_depth\u001b[0m\u001b[0;34m=\u001b[0m\u001b[0;36m2\u001b[0m\u001b[0;34m)\u001b[0m\u001b[0;34m\u001b[0m\u001b[0;34m\u001b[0m\u001b[0m\n",
      "\u001b[0;32m~/projects/dash_oop_components/dash_oop_components/core.py\u001b[0m in \u001b[0;36m_get_dash_app\u001b[0;34m(self)\u001b[0m\n\u001b[1;32m    353\u001b[0m         \u001b[0;32mif\u001b[0m \u001b[0mself\u001b[0m\u001b[0;34m.\u001b[0m\u001b[0mmode\u001b[0m \u001b[0;34m==\u001b[0m \u001b[0;34m'dash'\u001b[0m\u001b[0;34m:\u001b[0m\u001b[0;34m\u001b[0m\u001b[0;34m\u001b[0m\u001b[0m\n\u001b[1;32m    354\u001b[0m             \u001b[0mapp\u001b[0m \u001b[0;34m=\u001b[0m \u001b[0mdash\u001b[0m\u001b[0;34m.\u001b[0m\u001b[0mDash\u001b[0m\u001b[0;34m(\u001b[0m\u001b[0;34m**\u001b[0m\u001b[0mself\u001b[0m\u001b[0;34m.\u001b[0m\u001b[0mkwargs\u001b[0m\u001b[0;34m)\u001b[0m\u001b[0;34m\u001b[0m\u001b[0;34m\u001b[0m\u001b[0m\n\u001b[0;32m--> 355\u001b[0;31m         \u001b[0;32melif\u001b[0m \u001b[0mself\u001b[0m\u001b[0;34m.\u001b[0m\u001b[0mmode\u001b[0m \u001b[0;32min\u001b[0m \u001b[0;34m{\u001b[0m\u001b[0;34m'inline'\u001b[0m\u001b[0;34m,\u001b[0m \u001b[0;34m'external'\u001b[0m\u001b[0;34m,\u001b[0m \u001b[0;34m'jupyterlab'\u001b[0m\u001b[0;34m}\u001b[0m\u001b[0;34m:\u001b[0m\u001b[0;34m\u001b[0m\u001b[0;34m\u001b[0m\u001b[0m\n\u001b[0m\u001b[1;32m    356\u001b[0m             \u001b[0mapp\u001b[0m \u001b[0;34m=\u001b[0m \u001b[0mjupyter_dash\u001b[0m\u001b[0;34m.\u001b[0m\u001b[0mJupyterDash\u001b[0m\u001b[0;34m(\u001b[0m\u001b[0;34m**\u001b[0m\u001b[0mself\u001b[0m\u001b[0;34m.\u001b[0m\u001b[0mkwargs\u001b[0m\u001b[0;34m)\u001b[0m\u001b[0;34m\u001b[0m\u001b[0;34m\u001b[0m\u001b[0m\n\u001b[1;32m    357\u001b[0m \u001b[0;34m\u001b[0m\u001b[0m\n",
      "\u001b[0;32m~/projects/dash_oop_components/dash_oop_components/core.py\u001b[0m in \u001b[0;36mregister_callbacks\u001b[0;34m(self, app)\u001b[0m\n\u001b[1;32m    293\u001b[0m         \"\"\"First register callbacks of all subcomponents, then call\n\u001b[1;32m    294\u001b[0m         \u001b[0m_register_callbacks\u001b[0m\u001b[0;34m(\u001b[0m\u001b[0mapp\u001b[0m\u001b[0;34m)\u001b[0m\u001b[0;34m\u001b[0m\u001b[0;34m\u001b[0m\u001b[0m\n\u001b[0;32m--> 295\u001b[0;31m         \"\"\"\n\u001b[0m\u001b[1;32m    296\u001b[0m         \u001b[0mself\u001b[0m\u001b[0;34m.\u001b[0m\u001b[0mregister_components\u001b[0m\u001b[0;34m(\u001b[0m\u001b[0;34m)\u001b[0m\u001b[0;34m\u001b[0m\u001b[0;34m\u001b[0m\u001b[0m\n\u001b[1;32m    297\u001b[0m         \u001b[0;32mfor\u001b[0m \u001b[0mcomp\u001b[0m \u001b[0;32min\u001b[0m \u001b[0mself\u001b[0m\u001b[0;34m.\u001b[0m\u001b[0m_components\u001b[0m\u001b[0;34m:\u001b[0m\u001b[0;34m\u001b[0m\u001b[0;34m\u001b[0m\u001b[0m\n",
      "\u001b[0;32m~/projects/dash_oop_components/dash_oop_components/core.py\u001b[0m in \u001b[0;36mregister_components\u001b[0;34m(self)\u001b[0m\n\u001b[1;32m    275\u001b[0m         \u001b[0mSearches\u001b[0m \u001b[0mself\u001b[0m\u001b[0;34m.\u001b[0m\u001b[0m__dict__\u001b[0m\u001b[0;34m,\u001b[0m \u001b[0mfinds\u001b[0m \u001b[0mall\u001b[0m \u001b[0mDashComponents\u001b[0m \u001b[0;32mand\u001b[0m \u001b[0madds\u001b[0m \u001b[0mthem\u001b[0m \u001b[0mto\u001b[0m \u001b[0mself\u001b[0m\u001b[0;34m.\u001b[0m\u001b[0m_components\u001b[0m\u001b[0;34m\u001b[0m\u001b[0;34m\u001b[0m\u001b[0m\n\u001b[1;32m    276\u001b[0m         \"\"\"\n\u001b[0;32m--> 277\u001b[0;31m         \u001b[0;32mif\u001b[0m \u001b[0;32mnot\u001b[0m \u001b[0mhasattr\u001b[0m\u001b[0;34m(\u001b[0m\u001b[0mself\u001b[0m\u001b[0;34m,\u001b[0m \u001b[0;34m'_components'\u001b[0m\u001b[0;34m)\u001b[0m\u001b[0;34m:\u001b[0m\u001b[0;34m\u001b[0m\u001b[0;34m\u001b[0m\u001b[0m\n\u001b[0m\u001b[1;32m    278\u001b[0m             \u001b[0mself\u001b[0m\u001b[0;34m.\u001b[0m\u001b[0m_components\u001b[0m \u001b[0;34m=\u001b[0m \u001b[0;34m[\u001b[0m\u001b[0;34m]\u001b[0m\u001b[0;34m\u001b[0m\u001b[0;34m\u001b[0m\u001b[0m\n\u001b[1;32m    279\u001b[0m         \u001b[0;32mfor\u001b[0m \u001b[0mcomp\u001b[0m \u001b[0;32min\u001b[0m \u001b[0mself\u001b[0m\u001b[0;34m.\u001b[0m\u001b[0m__dict__\u001b[0m\u001b[0;34m.\u001b[0m\u001b[0mvalues\u001b[0m\u001b[0;34m(\u001b[0m\u001b[0;34m)\u001b[0m\u001b[0;34m:\u001b[0m\u001b[0;34m\u001b[0m\u001b[0;34m\u001b[0m\u001b[0m\n",
      "\u001b[0;31mKeyboardInterrupt\u001b[0m: "
     ]
    }
   ],
   "source": [
    "app = DashApp(dashboard, external_stylesheets=[dbc.themes.BOOTSTRAP])\n",
    "print(app.to_yaml())"
   ]
  },
  {
   "cell_type": "markdown",
   "metadata": {},
   "source": [
    "(turn cell below into codecell to actually run)"
   ]
  },
  {
   "cell_type": "code",
   "execution_count": null,
   "metadata": {},
   "outputs": [],
   "source": [
    "#hide\n",
    "run_app = False # set to False to avoid hanging the tests"
   ]
  },
  {
   "cell_type": "code",
   "execution_count": null,
   "metadata": {},
   "outputs": [],
   "source": [
    "if run_app:\n",
    "    app.run()"
   ]
  },
  {
   "cell_type": "markdown",
   "metadata": {},
   "source": [
    "### reload dashboard from config:"
   ]
  },
  {
   "cell_type": "code",
   "execution_count": null,
   "metadata": {},
   "outputs": [],
   "source": [
    "app.to_yaml(\"covid_dashboard.yaml\")"
   ]
  },
  {
   "cell_type": "code",
   "execution_count": null,
   "metadata": {},
   "outputs": [],
   "source": [
    "app2 = DashApp.from_yaml(\"covid_dashboard.yaml\")"
   ]
  },
  {
   "cell_type": "markdown",
   "metadata": {},
   "source": [
    "We can check that the configuration of this new `app2` is indeed the same as `app`:"
   ]
  },
  {
   "cell_type": "code",
   "execution_count": null,
   "metadata": {},
   "outputs": [
    {
     "name": "stdout",
     "output_type": "stream",
     "text": [
      "dash_app:\n",
      "  name: DashApp\n",
      "  module: dash_oop_components.core\n",
      "  params:\n",
      "    dashboard_component:\n",
      "      dash_component:\n",
      "        name: DuoPlots\n",
      "        module: __main__\n",
      "        params:\n",
      "          plot_factory:\n",
      "            dash_figure_factory:\n",
      "              name: CovidPlots\n",
      "              module: __main__\n",
      "              params:\n",
      "                datafile: covid.csv\n",
      "    port: 8050\n",
      "    mode: dash\n",
      "    kwargs:\n",
      "      external_stylesheets:\n",
      "      - https://stackpath.bootstrapcdn.com/bootstrap/4.5.0/css/bootstrap.min.css\n",
      "\n"
     ]
    }
   ],
   "source": [
    "print(app2.to_yaml())"
   ]
  },
  {
   "cell_type": "markdown",
   "metadata": {},
   "source": [
    "And if we run it it still works!\n"
   ]
  },
  {
   "cell_type": "code",
   "execution_count": null,
   "metadata": {},
   "outputs": [],
   "source": [
    "if not True: # remove to run\n",
    "    app2.run()"
   ]
  },
  {
   "cell_type": "code",
   "execution_count": null,
   "metadata": {},
   "outputs": [],
   "source": []
  },
  {
   "cell_type": "code",
   "execution_count": null,
   "metadata": {},
   "outputs": [],
   "source": []
  },
  {
   "cell_type": "code",
   "execution_count": null,
   "metadata": {},
   "outputs": [],
   "source": []
  }
 ],
 "metadata": {
  "kernelspec": {
   "display_name": "Python 3",
   "language": "python",
   "name": "python3"
  }
 },
 "nbformat": 4,
 "nbformat_minor": 2
}
