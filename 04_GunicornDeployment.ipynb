{
 "cells": [
  {
   "cell_type": "code",
   "execution_count": null,
   "metadata": {},
   "outputs": [],
   "source": [
    "#hide\n",
    "from dash_oop_components.core import *"
   ]
  },
  {
   "cell_type": "markdown",
   "metadata": {},
   "source": [
    "# Deploying with gunicorn\n",
    "\n",
    "> instructions on how to deploy a dashboard with gunicorn\n",
    "\n"
   ]
  },
  {
   "cell_type": "markdown",
   "metadata": {},
   "source": [
    "## Example"
   ]
  },
  {
   "cell_type": "markdown",
   "metadata": {},
   "source": [
    "An example dashboard can be found at [github.com/oegedijk/dash_oop_demo](https://github.com/oegedijk/dash_oop_demo) and has been deployed to [https://dash-oop-demo.herokuapp.com/](https://dash-oop-demo.herokuapp.com/)"
   ]
  },
  {
   "cell_type": "markdown",
   "metadata": {},
   "source": [
    "First define the `DashFigureFactory` and `DashComponents` in `dashboard.components.py`. In this case I named them `CovidPlots` and `CovidDashboard`.\n",
    "\n",
    "Then build the dashboard and save to `dashboard.yaml`:"
   ]
  },
  {
   "cell_type": "markdown",
   "metadata": {},
   "source": [
    "**build_dashboard.py**:\n",
    "```python\n",
    "from dashboard_components import CovidPlots, CovidDashboard\n",
    "from dash_bootstrap_components.themes import FLATLY\n",
    "from dash_oop_components import DashApp\n",
    "\n",
    "plot_factory = CovidPlots(datafile=\"covid.csv\")\n",
    "dashboard_component = CovidDashboard(plot_factory)\n",
    "db = DashApp(dashboard_component, querystrings=True, bootstrap=FLATLY)\n",
    "db.to_yaml(\"dashboard.yaml\")\n",
    "```"
   ]
  },
  {
   "cell_type": "markdown",
   "metadata": {},
   "source": [
    "Then define a `dashboard.py` that builds the dashboard from config, and exposes the Flask server:"
   ]
  },
  {
   "cell_type": "markdown",
   "metadata": {},
   "source": [
    "**dashboard.py**\n",
    "```python\n",
    "from dash_oop_components import DashApp\n",
    "\n",
    "db = DashApp.from_yaml(\"dashboard.yaml\")\n",
    "app = db.app.server\n",
    "```"
   ]
  },
  {
   "cell_type": "markdown",
   "metadata": {},
   "source": [
    "And start the gunicorn server:"
   ]
  },
  {
   "cell_type": "markdown",
   "metadata": {},
   "source": [
    "```bash\n",
    "$ gunicorn --preload -b localhost:8050 dashboard:app\n",
    "```"
   ]
  },
  {
   "cell_type": "markdown",
   "metadata": {},
   "source": [
    "Alternatively you can ofcourse simply use the `dashapp` CLI for starting the dashboard outside production environments:\n",
    "\n",
    "```sh\n",
    "    $ dashapp dashboard.yaml\n",
    "```"
   ]
  },
  {
   "cell_type": "markdown",
   "metadata": {},
   "source": [
    "## Automatically reloading dashboard whenever config changes"
   ]
  },
  {
   "cell_type": "markdown",
   "metadata": {},
   "source": [
    "You can also automatically restart the gunicorn server whenever there is a change to `dashboard.yaml`, by using `watchdog`. Install with `pip install watchdog[watchmedo]`. Start the gunicorn server while saving it's pid:"
   ]
  },
  {
   "cell_type": "markdown",
   "metadata": {},
   "source": [
    "```bash\n",
    "$ gunicorn --pid gunicorn.pid --preload -b localhost:8050 dashboard:app\n",
    "```"
   ]
  },
  {
   "cell_type": "markdown",
   "metadata": {},
   "source": [
    "And the start a watchmedo script that runs `kill -HUP` on the gunicorn server in order to force a restart whenever it detects a change to `dashboard.yaml`:"
   ]
  },
  {
   "cell_type": "markdown",
   "metadata": {},
   "source": [
    "```bash\n",
    "$ watchmedo shell-command -p \"./dashboard.yaml\" -c 'kill -HUP $(cat gunicorn.pid)'\n",
    "```"
   ]
  },
  {
   "cell_type": "markdown",
   "metadata": {},
   "source": [
    "## Loading with pickled `DashFigureFactory`"
   ]
  },
  {
   "cell_type": "markdown",
   "metadata": {},
   "source": [
    "In some cases you might be doing some expensive calculations inside your `DashFigureFactory` that you do not want to run everytime you restart a dashboard as it would break the gunicorn timeout window. The solution is to build the plot_factory, indicate the `filepath` of the dumped pickle file, dump it, and then load it from the pickle file when you start the dashboard, by passing `try_pickles=True`:"
   ]
  },
  {
   "cell_type": "markdown",
   "metadata": {},
   "source": [
    "**build_dashboard.py**:\n",
    "```python\n",
    "from dashboard_components import CovidPlots, CovidDashboard\n",
    "from dash_bootstrap_components.themes import FLATLY\n",
    "from dash_oop_components import DashApp\n",
    "\n",
    "plot_factory = CovidPlots(datafile=\"covid.csv\", filepath=\"plot_factory.pkl\")\n",
    "plot_factory.dump() # stores to plot_factory.pkl\n",
    "\n",
    "dashboard_component = CovidDashboard(plot_factory)\n",
    "\n",
    "db = DashApp(dashboard_component, bootstrap=FLATLY)\n",
    "db.to_yaml(\"dashboard.yaml\")\n",
    "```"
   ]
  },
  {
   "cell_type": "markdown",
   "metadata": {},
   "source": [
    "When you pass `try_pickles=True` if the `filepath` cannot be found, then the `DashPlotFactory` will get rebuilt from\n",
    "config. If you pass `force_pickles=True`, then `DashApp` will raise an exception instead:"
   ]
  },
  {
   "cell_type": "markdown",
   "metadata": {},
   "source": [
    "**dashboard.py:**\n",
    "```python\n",
    "from dash_oop_components import DashFigureFactory, DashComponent, DashApp\n",
    "\n",
    "db = DashApp.from_yaml(\"dashboard.yaml\", try_pickles=True)\n",
    "app = db.app.server\n",
    "```"
   ]
  },
  {
   "cell_type": "markdown",
   "metadata": {},
   "source": [
    "## Fully automated build and redeploy cycle"
   ]
  },
  {
   "cell_type": "markdown",
   "metadata": {},
   "source": [
    "We can also you watchmedo to rebuild the `plot_factory` whenever there is a change to `plot_factory.yaml` or `covid.csv`,\n",
    "and then rebuild the dashboard whenever there is a change to `plot_factory.pkl`, `dashboard_component.yaml` or `dashboard.yaml`:"
   ]
  },
  {
   "cell_type": "markdown",
   "metadata": {},
   "source": [
    "**build_plot_factory.py**:\n",
    "```python\n",
    "from dash_oop_component import DashFigureFactory\n",
    "\n",
    "plot_factory = DashFigureFactory.from_yaml(\"plot_factory.yaml\", filepath=\"plot_factory.pkl\")\n",
    "plot_factory.dump(\"\")\n",
    "```"
   ]
  },
  {
   "cell_type": "markdown",
   "metadata": {},
   "source": [
    "**build_dashboard.py**:\n",
    "```python\n",
    "from dashboard_components import CovidPlots, CovidDashboard\n",
    "from dash_bootstrap_components.themes import FLATLY\n",
    "from dash_oop_components import DashApp\n",
    "\n",
    "plot_factory = DashFigureFactory.from_file(\"plot_factory.pkl\")\n",
    "dashboard_component = CovidDashboard(plot_factory)\n",
    "db = DashApp(dashboard_component, bootstrap=FLATLY)\n",
    "\n",
    "db.to_yaml(\"dashboard.yaml\")\n",
    "```"
   ]
  },
  {
   "cell_type": "markdown",
   "metadata": {},
   "source": [
    "**dashboard.py:**\n",
    "```python\n",
    "from dash_oop_components import DashFigureFactory, DashComponent, DashApp\n",
    "\n",
    "db = DashApp.from_yaml(\"dashboard.yaml\", try_pickles=True)\n",
    "app = db.app.server\n",
    "```"
   ]
  },
  {
   "cell_type": "markdown",
   "metadata": {},
   "source": [
    "Now start the gunicorn server with:"
   ]
  },
  {
   "cell_type": "markdown",
   "metadata": {},
   "source": [
    "```bash\n",
    "$ gunicorn --pid gunicorn.pid --preload -b localhost:8050 dashboard:app\n",
    "```"
   ]
  },
  {
   "cell_type": "markdown",
   "metadata": {},
   "source": [
    "Now run the `build_plot_factory.py` script everytime you detect a change in either `covid.csv` or `plot_factory.yaml`:"
   ]
  },
  {
   "cell_type": "markdown",
   "metadata": {},
   "source": [
    "```bash\n",
    "$ watchmedo shell-command -p \"./covid.csv;./plot_factory.yaml\" -c 'python build_plot_factory.py'\n",
    "```"
   ]
  },
  {
   "cell_type": "markdown",
   "metadata": {},
   "source": [
    "Now run the `build_dashboard.py` script everytime you detect a change in either `plot_factory.pkl` or `plot_factory.yaml`:\n",
    "\n",
    "```bash\n",
    "$ watchmedo shell-command -p \"./plot_factory.pkl;./plot_factory.yaml\" -c 'python build_dashboard.py'\n",
    "```"
   ]
  },
  {
   "cell_type": "markdown",
   "metadata": {},
   "source": [
    "And restart the gunicorn server everytime you detect a change to `plot_factory.pkl`, or `dashboard.yaml`:"
   ]
  },
  {
   "cell_type": "markdown",
   "metadata": {},
   "source": [
    "```bash\n",
    "$ watchmedo shell-command -p \"./plot_factory.pkl;./dashboard.yaml\" -c 'kill -HUP $(cat gunicorn.pid)'\n",
    "```"
   ]
  },
  {
   "cell_type": "markdown",
   "metadata": {},
   "source": [
    "### Or in a single shell script:\n",
    "\n",
    "**start_server.sh**:\n",
    "```sh\n",
    "trap \"kill 0\" EXIT  # ensures that all four process are killed upon exit\n",
    "\n",
    "source venv/bin/activate # activate virtual environment first\n",
    "\n",
    "gunicorn --pid gunicorn.pid dashboard:app &\n",
    "watchmedo shell-command -p \"./covid.csv;./plot_factory.yaml\" -c 'python build_plot_factory.py' &\n",
    "watchmedo shell-command -p \"./plot_factory.pkl;./plot_factory.yaml\" -c 'python build_dashboard.py' &\n",
    "watchmedo shell-command -p \"./plot_factory.pkl;./dashboard.yaml\" -c 'kill -HUP $(cat gunicorn.pid)'\n",
    "\n",
    "\n",
    "wait # wait till user hits ctrl-c to exit and kill all three processes\n",
    "```"
   ]
  },
  {
   "cell_type": "code",
   "execution_count": null,
   "metadata": {},
   "outputs": [],
   "source": []
  }
 ],
 "metadata": {
  "kernelspec": {
   "display_name": "Python 3",
   "language": "python",
   "name": "python3"
  }
 },
 "nbformat": 4,
 "nbformat_minor": 4
}
