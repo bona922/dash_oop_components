{
 "cells": [
  {
   "cell_type": "code",
   "execution_count": null,
   "metadata": {},
   "outputs": [],
   "source": [
    "#hide\n",
    "from dash_oop_components.core import *"
   ]
  },
  {
   "cell_type": "markdown",
   "metadata": {},
   "source": [
    "# Deploying with gunicorn\n",
    "\n",
    "> instructions on how to deploy a dashboard with gunicorn\n",
    "\n"
   ]
  },
  {
   "cell_type": "markdown",
   "metadata": {},
   "source": [
    "## Example"
   ]
  },
  {
   "cell_type": "markdown",
   "metadata": {},
   "source": [
    "An example dashboard can be found at [github.com/oegedijk/dash_oop_demo](https://github.com/oegedijk/dash_oop_demo) and has been deployed to [https://dash-oop-demo.herokuapp.com/](https://dash-oop-demo.herokuapp.com/)"
   ]
  },
  {
   "cell_type": "markdown",
   "metadata": {},
   "source": [
    "First define the `DashFigureFactory` and `DashComponents` in `dashboard.components.py`. In this case I named them `CovidPlots` and `CovidDashboard`.\n",
    "\n",
    "Then build the dashboard and save to `dashboard.yaml`:"
   ]
  },
  {
   "cell_type": "markdown",
   "metadata": {},
   "source": [
    "**build_dashboard.py**:\n",
    "```python\n",
    "from dashboard_components import CovidPlots, CovidDashboard\n",
    "from dash_bootstrap_components.themes import FLATLY\n",
    "from dash_oop_components import DashApp\n",
    "\n",
    "plot_factory = CovidPlots(datafile=\"covid.csv\")\n",
    "dashboard_component = CovidDashboard(plot_factory)\n",
    "db = DashApp(dashboard_component, external_stylesheets=[FLATLY])\n",
    "db.to_yaml(\"dashboard.yaml\")\n",
    "```"
   ]
  },
  {
   "cell_type": "markdown",
   "metadata": {},
   "source": [
    "Then define a `dashboard.py` that builds the dashboard from config, and exposes the Flask server:"
   ]
  },
  {
   "cell_type": "markdown",
   "metadata": {},
   "source": [
    "**dashboard.py**\n",
    "```python\n",
    "from dash_oop_components import DashApp\n",
    "\n",
    "db = DashApp.from_yaml(\"dashboard.yaml\")\n",
    "app = db.app.server\n",
    "```"
   ]
  },
  {
   "cell_type": "markdown",
   "metadata": {},
   "source": [
    "And start the gunicorn server:"
   ]
  },
  {
   "cell_type": "markdown",
   "metadata": {},
   "source": [
    "```bash\n",
    "$ gunicorn --preload -b localhost:8050 dashboard:app\n",
    "```"
   ]
  },
  {
   "cell_type": "markdown",
   "metadata": {},
   "source": [
    "## Automatically reloading dashboard whenever config changes"
   ]
  },
  {
   "cell_type": "markdown",
   "metadata": {},
   "source": [
    "You can also automatically restart the gunicorn server whenever there is a change to `dashboard.yaml`, by using `watchdog`. Install with `pip install watchdog[watchmedo]`. Start the gunicorn server while saving it's pid:"
   ]
  },
  {
   "cell_type": "markdown",
   "metadata": {},
   "source": [
    "```bash\n",
    "$ gunicorn --pid gunicorn.pid --preload -b localhost:8050 dashboard:app\n",
    "```"
   ]
  },
  {
   "cell_type": "markdown",
   "metadata": {},
   "source": [
    "And the start a watchmedo script that runs `kill -HUP` on the gunicorn server in order to force a restart whenever it detects a change to `dashboard.yaml`:"
   ]
  },
  {
   "cell_type": "markdown",
   "metadata": {},
   "source": [
    "```bash\n",
    "$ watchmedo shell-command -p \"./dashboard.yaml\" -c 'kill -HUP $(cat gunicorn.pid)'\n",
    "```"
   ]
  },
  {
   "cell_type": "markdown",
   "metadata": {},
   "source": [
    "## Loading with pickled `DashFigureFactory`"
   ]
  },
  {
   "cell_type": "markdown",
   "metadata": {},
   "source": [
    "In some cases you might be doing some expensive calculations inside your `DashFigureFactory` that you do not want to run everytime you restart a dashboard as it would break the gunicorn timeout window."
   ]
  },
  {
   "cell_type": "markdown",
   "metadata": {},
   "source": [
    "**build_dashboard.py**:\n",
    "```python\n",
    "from dashboard_components import CovidPlots, CovidDashboard\n",
    "from dash_bootstrap_components.themes import FLATLY\n",
    "from dash_oop_components import DashApp\n",
    "\n",
    "plot_factory = CovidPlots(datafile=\"covid.csv\")\n",
    "dashboard_component = CovidDashboard(plot_factory)\n",
    "db = DashApp(dashboard_component, external_stylesheets=[FLATLY])\n",
    "\n",
    "plot_factory.dump(\"plot_factory.pkl\")\n",
    "plot_factory.to_yaml('plot_factory.yaml')\n",
    "dashboard.to_yaml(\"dash_component.yaml\")\n",
    "db.to_yaml(\"dashboard.yaml\")\n",
    "```"
   ]
  },
  {
   "cell_type": "markdown",
   "metadata": {},
   "source": [
    "Now you can load the plot_factory from disk. And you can use the fact that you can override parameters when loading with `.from_yaml()` by passing them as kwargs:"
   ]
  },
  {
   "cell_type": "markdown",
   "metadata": {},
   "source": [
    "**dashboard.py:**\n",
    "```python\n",
    "from dash_oop_components import DashFigureFactory, DashComponent, DashApp\n",
    "\n",
    "plot_factory = DashFigureFactory.from_file(\"plot_factory.pkl\")\n",
    "dashboard_component = DashComponent.from_yaml(\"dash_component.yaml\", plot_factory=plot_factory)\n",
    "db = DashApp.from_yaml(\"dashboard.yaml\", dashboard_component=dashboard_component)\n",
    "app = db.app.server\n",
    "```"
   ]
  },
  {
   "cell_type": "markdown",
   "metadata": {},
   "source": [
    "## Fully automated build and redeploy cycle"
   ]
  },
  {
   "cell_type": "markdown",
   "metadata": {},
   "source": [
    "We can also you watchmedo to rebuild the `plot_factory` whenever there is a change to `plot_factory.yaml` or `covid.csv`,\n",
    "and then rebuild the dashboard whenever there is a change to `plot_factory.pkl`, `dashboard_component.yaml` or `dashboard.yaml`:"
   ]
  },
  {
   "cell_type": "markdown",
   "metadata": {},
   "source": [
    "**build_plot_factory.py**:\n",
    "```python\n",
    "from dash_oop_component import DashFigureFactory\n",
    "\n",
    "plot_factory = DashFigureFactory.from_yaml(\"plot_factory.yaml\")\n",
    "plot_factory.dump(\"plot_factory.pkl\")\n",
    "```"
   ]
  },
  {
   "cell_type": "markdown",
   "metadata": {},
   "source": [
    "**build_dashboard.py**:\n",
    "```python\n",
    "from dashboard_components import CovidPlots, CovidDashboard\n",
    "from dash_bootstrap_components.themes import FLATLY\n",
    "from dash_oop_components import DashApp\n",
    "\n",
    "plot_factory = DashFigureFactory.from_file(\"plot_factory.pkl\")\n",
    "dashboard_component = CovidDashboard(plot_factory)\n",
    "db = DashApp(dashboard_component, external_stylesheets=[FLATLY])\n",
    "\n",
    "dashboard.to_yaml(\"dash_component.yaml\")\n",
    "db.to_yaml(\"dashboard.yaml\")\n",
    "```"
   ]
  },
  {
   "cell_type": "markdown",
   "metadata": {},
   "source": [
    "**dashboard.py:**\n",
    "```python\n",
    "from dash_oop_components import DashFigureFactory, DashComponent, DashApp\n",
    "\n",
    "plot_factory = DashFigureFactory.from_file(\"plot_factory.pkl\")\n",
    "dashboard_component = DashComponent.from_yaml(\"dash_component.yaml\", plot_factory=plot_factory)\n",
    "db = DashApp.from_yaml(\"dashboard.yaml\", dashboard_component=dashboard_component)\n",
    "app = db.app.server\n",
    "```"
   ]
  },
  {
   "cell_type": "markdown",
   "metadata": {},
   "source": [
    "Now start the gunicorn server with:"
   ]
  },
  {
   "cell_type": "markdown",
   "metadata": {},
   "source": [
    "```bash\n",
    "$ gunicorn --pid gunicorn.pid --preload -b localhost:8050 dashboard:app\n",
    "```"
   ]
  },
  {
   "cell_type": "markdown",
   "metadata": {},
   "source": [
    "Now run the `build_plot_factory.py` script everytime you detect a change in either `covid.csv` or `plot_factory.yaml`:"
   ]
  },
  {
   "cell_type": "markdown",
   "metadata": {},
   "source": [
    "```bash\n",
    "$ watchmedo shell-command -p \"./covid.csv;./plot_factory.yaml\" -c 'python build_plot_factory.py'\n",
    "```"
   ]
  },
  {
   "cell_type": "markdown",
   "metadata": {},
   "source": [
    "And restart the gunicorn server everytime you detect a change to `plot_factory.pkl`, `dashboard_component.yaml` or `dashboard.yaml`:"
   ]
  },
  {
   "cell_type": "markdown",
   "metadata": {},
   "source": [
    "```bash\n",
    "$ watchmedo shell-command -p \"./plot_factory.pkl;./dashboard_component.yaml;./dashboard.yaml\" -c 'kill -HUP $(cat gunicorn.pid)'\n",
    "```"
   ]
  },
  {
   "cell_type": "code",
   "execution_count": null,
   "metadata": {},
   "outputs": [],
   "source": []
  }
 ],
 "metadata": {
  "kernelspec": {
   "display_name": "Python 3",
   "language": "python",
   "name": "python3"
  }
 },
 "nbformat": 4,
 "nbformat_minor": 4
}
